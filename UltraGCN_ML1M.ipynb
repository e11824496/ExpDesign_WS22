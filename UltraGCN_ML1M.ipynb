{
  "nbformat": 4,
  "nbformat_minor": 0,
  "metadata": {
    "colab": {
      "provenance": [],
      "authorship_tag": "ABX9TyNQVUcY0qlaWeMfzQ07zXpQ",
      "include_colab_link": true
    },
    "kernelspec": {
      "name": "python3",
      "display_name": "Python 3"
    },
    "language_info": {
      "name": "python"
    },
    "accelerator": "GPU",
    "gpuClass": "standard"
  },
  "cells": [
    {
      "cell_type": "markdown",
      "metadata": {
        "id": "view-in-github",
        "colab_type": "text"
      },
      "source": [
        "<a href=\"https://colab.research.google.com/github/e11824496/ExpDesign_WS22/blob/main/UltraGCN_ML1M.ipynb\" target=\"_parent\"><img src=\"https://colab.research.google.com/assets/colab-badge.svg\" alt=\"Open In Colab\"/></a>"
      ]
    },
    {
      "cell_type": "code",
      "execution_count": 1,
      "metadata": {
        "colab": {
          "base_uri": "https://localhost:8080/"
        },
        "id": "0bZx6oNJ0lrq",
        "outputId": "4b776a91-27e1-4c32-e283-c79ca449772e"
      },
      "outputs": [
        {
          "output_type": "stream",
          "name": "stdout",
          "text": [
            "Cloning into 'ExpDesign_WS22'...\n",
            "remote: Enumerating objects: 76, done.\u001b[K\n",
            "remote: Counting objects: 100% (26/26), done.\u001b[K\n",
            "remote: Compressing objects: 100% (22/22), done.\u001b[K\n",
            "remote: Total 76 (delta 9), reused 16 (delta 3), pack-reused 50\u001b[K\n",
            "Unpacking objects: 100% (76/76), done.\n"
          ]
        }
      ],
      "source": [
        "!git clone https://github.com/e11824496/ExpDesign_WS22.git"
      ]
    },
    {
      "cell_type": "code",
      "source": [
        "%cd ExpDesign_WS22/UltraGCN/"
      ],
      "metadata": {
        "colab": {
          "base_uri": "https://localhost:8080/"
        },
        "id": "tuiXu1ka0pn1",
        "outputId": "c9235406-1936-424f-f4e9-9d53f17b2e6e"
      },
      "execution_count": 2,
      "outputs": [
        {
          "output_type": "stream",
          "name": "stdout",
          "text": [
            "/content/ExpDesign_WS22/UltraGCN\n"
          ]
        }
      ]
    },
    {
      "cell_type": "code",
      "source": [
        "!python main.py --config_file ml-1m_config.ini"
      ],
      "metadata": {
        "colab": {
          "base_uri": "https://localhost:8080/"
        },
        "id": "YxRKrxBq0ty1",
        "outputId": "ba4f2b9c-46ab-407e-b409-777c030b1589"
      },
      "execution_count": 3,
      "outputs": [
        {
          "output_type": "stream",
          "name": "stdout",
          "text": [
            "###################### UltraGCN ######################\n",
            "1. Loading Configuration...\n",
            "/usr/local/lib/python3.8/dist-packages/torch/utils/data/dataloader.py:554: UserWarning: This DataLoader will create 5 worker processes in total. Our suggested max number of worker in current system is 2, which is smaller than what this DataLoader is going to create. Please be aware that excessive worker creation might get DataLoader running slow or even freeze, lower the worker number to avoid potential slowness/freeze if necessary.\n",
            "  warnings.warn(_create_warning_msg(\n",
            "\n",
            "Computing \\Omega for the item-item graph... \n",
            "i-i constraint matrix 0 ok\n",
            "Computation \\Omega OK!\n",
            "store object in path = ./ml-1m_ii_neighbor_mat ok\n",
            "store object in path = ./ml-1m_ii_constraint_mat ok\n",
            "Load Configuration OK, show them below\n",
            "Configuration:\n",
            "{'embedding_dim': 128, 'ii_neighbor_num': 10, 'model_save_path': './ultragcn_ml-1m.pt', 'max_epoch': 2000, 'enable_tensorboard': True, 'initial_weight': 0.001, 'dataset': 'ml-1m', 'gpu': '0', 'device': device(type='cuda', index=0), 'lr': 0.001, 'batch_size': 1024, 'early_stop_epoch': 50, 'w1': 1e-07, 'w2': 1.0, 'w3': 1e-07, 'w4': 1.0, 'negative_num': 200, 'negative_weight': 200.0, 'gamma': 0.0001, 'lambda': 0.001, 'sampling_sift_pos': False, 'test_batch_size': 2048, 'topk': 20, 'user_num': 6022, 'item_num': 3043}\n",
            "Total training batches = 778\n",
            "/usr/local/lib/python3.8/dist-packages/torch/utils/data/dataloader.py:554: UserWarning: This DataLoader will create 5 worker processes in total. Our suggested max number of worker in current system is 2, which is smaller than what this DataLoader is going to create. Please be aware that excessive worker creation might get DataLoader running slow or even freeze, lower the worker number to avoid potential slowness/freeze if necessary.\n",
            "  warnings.warn(_create_warning_msg(\n",
            "The time for epoch 0 is: train time = 00: 00: 12, test time = 00: 00: 03\n",
            "Loss = 19.91279, F1-score: 0.091681 \t Precision: 0.07648\t Recall: 0.11443\tNDCG: 0.11596\n",
            "The time for epoch 5 is: train time = 00: 00: 10, test time = 00: 00: 00\n",
            "Loss = 18.20638, F1-score: 0.091183 \t Precision: 0.07611\t Recall: 0.11370\tNDCG: 0.11528\n",
            "The time for epoch 10 is: train time = 00: 00: 10, test time = 00: 00: 00\n",
            "Loss = 16.27180, F1-score: 0.091290 \t Precision: 0.07566\t Recall: 0.11505\tNDCG: 0.11492\n",
            "The time for epoch 15 is: train time = 00: 00: 10, test time = 00: 00: 00\n",
            "Loss = 16.36341, F1-score: 0.129567 \t Precision: 0.10807\t Recall: 0.16174\tNDCG: 0.17017\n",
            "The time for epoch 20 is: train time = 00: 00: 10, test time = 00: 00: 00\n",
            "Loss = 16.40980, F1-score: 0.157493 \t Precision: 0.12776\t Recall: 0.20527\tNDCG: 0.20656\n",
            "The time for epoch 25 is: train time = 00: 00: 10, test time = 00: 00: 00\n",
            "Loss = 15.94931, F1-score: 0.172548 \t Precision: 0.13822\t Recall: 0.22957\tNDCG: 0.22600\n",
            "The time for epoch 30 is: train time = 00: 00: 10, test time = 00: 00: 00\n",
            "Loss = 17.08956, F1-score: 0.180317 \t Precision: 0.14316\t Recall: 0.24353\tNDCG: 0.23581\n",
            "The time for epoch 35 is: train time = 00: 00: 10, test time = 00: 00: 00\n",
            "Loss = 16.71270, F1-score: 0.186643 \t Precision: 0.14766\t Recall: 0.25360\tNDCG: 0.24537\n",
            "The time for epoch 40 is: train time = 00: 00: 10, test time = 00: 00: 00\n",
            "Loss = 16.71788, F1-score: 0.190880 \t Precision: 0.15045\t Recall: 0.26103\tNDCG: 0.25027\n",
            "The time for epoch 45 is: train time = 00: 00: 10, test time = 00: 00: 00\n",
            "Loss = 16.25968, F1-score: 0.193948 \t Precision: 0.15245\t Recall: 0.26649\tNDCG: 0.25476\n",
            "The time for epoch 50 is: train time = 00: 00: 10, test time = 00: 00: 00\n",
            "Loss = 17.46021, F1-score: 0.195854 \t Precision: 0.15364\t Recall: 0.27004\tNDCG: 0.25733\n",
            "The time for epoch 51 is: train time = 00: 00: 10, test time = 00: 00: 00\n",
            "Loss = 16.63280, F1-score: 0.196292 \t Precision: 0.15430\t Recall: 0.26968\tNDCG: 0.25750\n",
            "The time for epoch 52 is: train time = 00: 00: 10, test time = 00: 00: 00\n",
            "Loss = 17.13210, F1-score: 0.195734 \t Precision: 0.15352\t Recall: 0.26997\tNDCG: 0.25851\n",
            "The time for epoch 53 is: train time = 00: 00: 10, test time = 00: 00: 00\n",
            "Loss = 17.51927, F1-score: 0.196934 \t Precision: 0.15442\t Recall: 0.27176\tNDCG: 0.25941\n",
            "The time for epoch 54 is: train time = 00: 00: 10, test time = 00: 00: 00\n",
            "Loss = 17.26227, F1-score: 0.197346 \t Precision: 0.15480\t Recall: 0.27214\tNDCG: 0.25925\n",
            "The time for epoch 55 is: train time = 00: 00: 10, test time = 00: 00: 00\n",
            "Loss = 16.91007, F1-score: 0.198102 \t Precision: 0.15536\t Recall: 0.27330\tNDCG: 0.25907\n",
            "The time for epoch 56 is: train time = 00: 00: 10, test time = 00: 00: 00\n",
            "Loss = 17.31599, F1-score: 0.198551 \t Precision: 0.15549\t Recall: 0.27460\tNDCG: 0.26147\n",
            "The time for epoch 57 is: train time = 00: 00: 10, test time = 00: 00: 00\n",
            "Loss = 16.99549, F1-score: 0.198045 \t Precision: 0.15520\t Recall: 0.27357\tNDCG: 0.26098\n",
            "The time for epoch 58 is: train time = 00: 00: 10, test time = 00: 00: 00\n",
            "Loss = 17.24116, F1-score: 0.198808 \t Precision: 0.15577\t Recall: 0.27470\tNDCG: 0.26144\n",
            "The time for epoch 59 is: train time = 00: 00: 10, test time = 00: 00: 00\n",
            "Loss = 16.90167, F1-score: 0.198243 \t Precision: 0.15531\t Recall: 0.27397\tNDCG: 0.26043\n",
            "The time for epoch 60 is: train time = 00: 00: 10, test time = 00: 00: 00\n",
            "Loss = 16.68484, F1-score: 0.197994 \t Precision: 0.15521\t Recall: 0.27335\tNDCG: 0.26006\n",
            "The time for epoch 61 is: train time = 00: 00: 10, test time = 00: 00: 00\n",
            "Loss = 16.42635, F1-score: 0.198508 \t Precision: 0.15538\t Recall: 0.27477\tNDCG: 0.26016\n",
            "The time for epoch 62 is: train time = 00: 00: 09, test time = 00: 00: 00\n",
            "Loss = 16.87586, F1-score: 0.198482 \t Precision: 0.15541\t Recall: 0.27460\tNDCG: 0.26152\n",
            "The time for epoch 63 is: train time = 00: 00: 10, test time = 00: 00: 00\n",
            "Loss = 16.30175, F1-score: 0.199576 \t Precision: 0.15631\t Recall: 0.27596\tNDCG: 0.26252\n",
            "The time for epoch 64 is: train time = 00: 00: 10, test time = 00: 00: 00\n",
            "Loss = 17.01346, F1-score: 0.199258 \t Precision: 0.15608\t Recall: 0.27547\tNDCG: 0.26162\n",
            "The time for epoch 65 is: train time = 00: 00: 10, test time = 00: 00: 00\n",
            "Loss = 17.24036, F1-score: 0.199909 \t Precision: 0.15650\t Recall: 0.27664\tNDCG: 0.26345\n",
            "The time for epoch 66 is: train time = 00: 00: 10, test time = 00: 00: 00\n",
            "Loss = 16.88608, F1-score: 0.200522 \t Precision: 0.15717\t Recall: 0.27691\tNDCG: 0.26330\n",
            "The time for epoch 67 is: train time = 00: 00: 09, test time = 00: 00: 00\n",
            "Loss = 17.64177, F1-score: 0.200345 \t Precision: 0.15706\t Recall: 0.27657\tNDCG: 0.26273\n",
            "The time for epoch 68 is: train time = 00: 00: 10, test time = 00: 00: 00\n",
            "Loss = 17.25554, F1-score: 0.199704 \t Precision: 0.15633\t Recall: 0.27640\tNDCG: 0.26260\n",
            "The time for epoch 69 is: train time = 00: 00: 10, test time = 00: 00: 00\n",
            "Loss = 16.89302, F1-score: 0.199344 \t Precision: 0.15595\t Recall: 0.27619\tNDCG: 0.26208\n",
            "The time for epoch 70 is: train time = 00: 00: 10, test time = 00: 00: 00\n",
            "Loss = 17.88643, F1-score: 0.199997 \t Precision: 0.15652\t Recall: 0.27692\tNDCG: 0.26258\n",
            "The time for epoch 71 is: train time = 00: 00: 10, test time = 00: 00: 00\n",
            "Loss = 17.33965, F1-score: 0.199309 \t Precision: 0.15593\t Recall: 0.27613\tNDCG: 0.26210\n",
            "The time for epoch 72 is: train time = 00: 00: 10, test time = 00: 00: 00\n",
            "Loss = 17.19024, F1-score: 0.200470 \t Precision: 0.15692\t Recall: 0.27746\tNDCG: 0.26330\n",
            "The time for epoch 73 is: train time = 00: 00: 09, test time = 00: 00: 00\n",
            "Loss = 17.43772, F1-score: 0.199825 \t Precision: 0.15653\t Recall: 0.27621\tNDCG: 0.26311\n",
            "The time for epoch 74 is: train time = 00: 00: 10, test time = 00: 00: 00\n",
            "Loss = 17.39361, F1-score: 0.199676 \t Precision: 0.15600\t Recall: 0.27731\tNDCG: 0.26268\n",
            "The time for epoch 75 is: train time = 00: 00: 10, test time = 00: 00: 00\n",
            "Loss = 17.08416, F1-score: 0.199940 \t Precision: 0.15627\t Recall: 0.27749\tNDCG: 0.26380\n",
            "The time for epoch 76 is: train time = 00: 00: 10, test time = 00: 00: 00\n",
            "Loss = 16.93247, F1-score: 0.198850 \t Precision: 0.15558\t Recall: 0.27546\tNDCG: 0.26227\n",
            "The time for epoch 77 is: train time = 00: 00: 10, test time = 00: 00: 00\n",
            "Loss = 16.32383, F1-score: 0.200194 \t Precision: 0.15663\t Recall: 0.27734\tNDCG: 0.26282\n",
            "The time for epoch 78 is: train time = 00: 00: 10, test time = 00: 00: 00\n",
            "Loss = 16.85132, F1-score: 0.199939 \t Precision: 0.15634\t Recall: 0.27727\tNDCG: 0.26308\n",
            "The time for epoch 79 is: train time = 00: 00: 10, test time = 00: 00: 00\n",
            "Loss = 17.23942, F1-score: 0.199794 \t Precision: 0.15599\t Recall: 0.27779\tNDCG: 0.26392\n",
            "The time for epoch 80 is: train time = 00: 00: 10, test time = 00: 00: 00\n",
            "Loss = 16.41440, F1-score: 0.199836 \t Precision: 0.15612\t Recall: 0.27756\tNDCG: 0.26276\n",
            "The time for epoch 81 is: train time = 00: 00: 10, test time = 00: 00: 00\n",
            "Loss = 17.57565, F1-score: 0.199386 \t Precision: 0.15604\t Recall: 0.27609\tNDCG: 0.26250\n",
            "The time for epoch 82 is: train time = 00: 00: 10, test time = 00: 00: 00\n",
            "Loss = 16.72587, F1-score: 0.199825 \t Precision: 0.15616\t Recall: 0.27739\tNDCG: 0.26301\n",
            "The time for epoch 83 is: train time = 00: 00: 10, test time = 00: 00: 00\n",
            "Loss = 17.07525, F1-score: 0.199140 \t Precision: 0.15565\t Recall: 0.27634\tNDCG: 0.26143\n",
            "The time for epoch 84 is: train time = 00: 00: 10, test time = 00: 00: 00\n",
            "Loss = 17.54578, F1-score: 0.200285 \t Precision: 0.15660\t Recall: 0.27777\tNDCG: 0.26334\n",
            "The time for epoch 85 is: train time = 00: 00: 10, test time = 00: 00: 00\n",
            "Loss = 16.89867, F1-score: 0.199284 \t Precision: 0.15587\t Recall: 0.27622\tNDCG: 0.26174\n",
            "The time for epoch 86 is: train time = 00: 00: 10, test time = 00: 00: 00\n",
            "Loss = 17.38805, F1-score: 0.200570 \t Precision: 0.15695\t Recall: 0.27777\tNDCG: 0.26360\n",
            "The time for epoch 87 is: train time = 00: 00: 10, test time = 00: 00: 00\n",
            "Loss = 16.88093, F1-score: 0.199005 \t Precision: 0.15566\t Recall: 0.27580\tNDCG: 0.26287\n",
            "The time for epoch 88 is: train time = 00: 00: 10, test time = 00: 00: 00\n",
            "Loss = 16.91226, F1-score: 0.199392 \t Precision: 0.15600\t Recall: 0.27622\tNDCG: 0.26114\n",
            "The time for epoch 89 is: train time = 00: 00: 10, test time = 00: 00: 00\n",
            "Loss = 17.18582, F1-score: 0.199435 \t Precision: 0.15601\t Recall: 0.27635\tNDCG: 0.26297\n",
            "The time for epoch 90 is: train time = 00: 00: 10, test time = 00: 00: 00\n",
            "Loss = 17.27471, F1-score: 0.199320 \t Precision: 0.15590\t Recall: 0.27625\tNDCG: 0.26281\n",
            "The time for epoch 91 is: train time = 00: 00: 10, test time = 00: 00: 00\n",
            "Loss = 16.58468, F1-score: 0.199261 \t Precision: 0.15560\t Recall: 0.27697\tNDCG: 0.26200\n",
            "The time for epoch 92 is: train time = 00: 00: 10, test time = 00: 00: 00\n",
            "Loss = 17.18991, F1-score: 0.199370 \t Precision: 0.15601\t Recall: 0.27610\tNDCG: 0.26218\n",
            "The time for epoch 93 is: train time = 00: 00: 10, test time = 00: 00: 00\n",
            "Loss = 16.61106, F1-score: 0.199120 \t Precision: 0.15573\t Recall: 0.27603\tNDCG: 0.26248\n",
            "The time for epoch 94 is: train time = 00: 00: 10, test time = 00: 00: 00\n",
            "Loss = 16.95034, F1-score: 0.199775 \t Precision: 0.15606\t Recall: 0.27751\tNDCG: 0.26338\n",
            "The time for epoch 95 is: train time = 00: 00: 10, test time = 00: 00: 00\n",
            "Loss = 16.89729, F1-score: 0.200048 \t Precision: 0.15634\t Recall: 0.27770\tNDCG: 0.26443\n",
            "The time for epoch 96 is: train time = 00: 00: 09, test time = 00: 00: 00\n",
            "Loss = 17.14818, F1-score: 0.199671 \t Precision: 0.15624\t Recall: 0.27656\tNDCG: 0.26281\n",
            "The time for epoch 97 is: train time = 00: 00: 10, test time = 00: 00: 00\n",
            "Loss = 17.68124, F1-score: 0.198959 \t Precision: 0.15550\t Recall: 0.27614\tNDCG: 0.26161\n",
            "The time for epoch 98 is: train time = 00: 00: 09, test time = 00: 00: 00\n",
            "Loss = 17.29868, F1-score: 0.199153 \t Precision: 0.15565\t Recall: 0.27639\tNDCG: 0.26193\n",
            "The time for epoch 99 is: train time = 00: 00: 10, test time = 00: 00: 00\n",
            "Loss = 17.21339, F1-score: 0.199464 \t Precision: 0.15585\t Recall: 0.27699\tNDCG: 0.26225\n",
            "The time for epoch 100 is: train time = 00: 00: 10, test time = 00: 00: 00\n",
            "Loss = 17.55200, F1-score: 0.199024 \t Precision: 0.15572\t Recall: 0.27569\tNDCG: 0.26196\n",
            "The time for epoch 101 is: train time = 00: 00: 10, test time = 00: 00: 00\n",
            "Loss = 16.78485, F1-score: 0.199040 \t Precision: 0.15576\t Recall: 0.27562\tNDCG: 0.26147\n",
            "The time for epoch 102 is: train time = 00: 00: 10, test time = 00: 00: 00\n",
            "Loss = 16.93698, F1-score: 0.198659 \t Precision: 0.15547\t Recall: 0.27507\tNDCG: 0.26108\n",
            "The time for epoch 103 is: train time = 00: 00: 10, test time = 00: 00: 00\n",
            "Loss = 17.26036, F1-score: 0.198038 \t Precision: 0.15497\t Recall: 0.27427\tNDCG: 0.26016\n",
            "The time for epoch 104 is: train time = 00: 00: 10, test time = 00: 00: 00\n",
            "Loss = 16.59708, F1-score: 0.198702 \t Precision: 0.15529\t Recall: 0.27581\tNDCG: 0.26154\n",
            "The time for epoch 105 is: train time = 00: 00: 10, test time = 00: 00: 00\n",
            "Loss = 16.78301, F1-score: 0.199235 \t Precision: 0.15572\t Recall: 0.27650\tNDCG: 0.26161\n",
            "The time for epoch 106 is: train time = 00: 00: 10, test time = 00: 00: 00\n",
            "Loss = 16.75830, F1-score: 0.199070 \t Precision: 0.15553\t Recall: 0.27647\tNDCG: 0.26217\n",
            "The time for epoch 107 is: train time = 00: 00: 10, test time = 00: 00: 00\n",
            "Loss = 16.74643, F1-score: 0.198766 \t Precision: 0.15539\t Recall: 0.27574\tNDCG: 0.26168\n",
            "The time for epoch 108 is: train time = 00: 00: 10, test time = 00: 00: 00\n",
            "Loss = 16.71926, F1-score: 0.198632 \t Precision: 0.15539\t Recall: 0.27522\tNDCG: 0.26212\n",
            "The time for epoch 109 is: train time = 00: 00: 10, test time = 00: 00: 01\n",
            "Loss = 17.37531, F1-score: 0.198481 \t Precision: 0.15518\t Recall: 0.27530\tNDCG: 0.26062\n",
            "The time for epoch 110 is: train time = 00: 00: 10, test time = 00: 00: 00\n",
            "Loss = 16.38103, F1-score: 0.198001 \t Precision: 0.15492\t Recall: 0.27426\tNDCG: 0.26057\n",
            "The time for epoch 111 is: train time = 00: 00: 10, test time = 00: 00: 00\n",
            "Loss = 16.69448, F1-score: 0.199171 \t Precision: 0.15584\t Recall: 0.27589\tNDCG: 0.26228\n",
            "The time for epoch 112 is: train time = 00: 00: 10, test time = 00: 00: 00\n",
            "Loss = 17.13231, F1-score: 0.199425 \t Precision: 0.15585\t Recall: 0.27681\tNDCG: 0.26218\n",
            "The time for epoch 113 is: train time = 00: 00: 09, test time = 00: 00: 00\n",
            "Loss = 17.45011, F1-score: 0.198538 \t Precision: 0.15517\t Recall: 0.27554\tNDCG: 0.26103\n",
            "The time for epoch 114 is: train time = 00: 00: 10, test time = 00: 00: 00\n",
            "Loss = 16.95297, F1-score: 0.197300 \t Precision: 0.15433\t Recall: 0.27344\tNDCG: 0.25929\n",
            "The time for epoch 115 is: train time = 00: 00: 10, test time = 00: 00: 00\n",
            "Loss = 17.16309, F1-score: 0.198152 \t Precision: 0.15509\t Recall: 0.27432\tNDCG: 0.26088\n",
            "The time for epoch 116 is: train time = 00: 00: 10, test time = 00: 00: 00\n",
            "Loss = 17.35722, F1-score: 0.198380 \t Precision: 0.15499\t Recall: 0.27551\tNDCG: 0.26100\n",
            "The time for epoch 117 is: train time = 00: 00: 10, test time = 00: 00: 00\n",
            "Loss = 17.11061, F1-score: 0.198104 \t Precision: 0.15489\t Recall: 0.27476\tNDCG: 0.26065\n",
            "The time for epoch 118 is: train time = 00: 00: 10, test time = 00: 00: 00\n",
            "Loss = 17.29982, F1-score: 0.197833 \t Precision: 0.15468\t Recall: 0.27437\tNDCG: 0.26038\n",
            "The time for epoch 119 is: train time = 00: 00: 10, test time = 00: 00: 00\n",
            "Loss = 17.12624, F1-score: 0.197941 \t Precision: 0.15492\t Recall: 0.27406\tNDCG: 0.26011\n",
            "The time for epoch 120 is: train time = 00: 00: 10, test time = 00: 00: 00\n",
            "Loss = 17.08451, F1-score: 0.197726 \t Precision: 0.15477\t Recall: 0.27370\tNDCG: 0.26036\n",
            "The time for epoch 121 is: train time = 00: 00: 10, test time = 00: 00: 00\n",
            "Loss = 16.28683, F1-score: 0.197355 \t Precision: 0.15439\t Recall: 0.27345\tNDCG: 0.25979\n",
            "The time for epoch 122 is: train time = 00: 00: 10, test time = 00: 00: 00\n",
            "Loss = 16.63221, F1-score: 0.197894 \t Precision: 0.15469\t Recall: 0.27458\tNDCG: 0.26015\n",
            "The time for epoch 123 is: train time = 00: 00: 10, test time = 00: 00: 00\n",
            "Loss = 17.28677, F1-score: 0.197510 \t Precision: 0.15464\t Recall: 0.27326\tNDCG: 0.26067\n",
            "The time for epoch 124 is: train time = 00: 00: 10, test time = 00: 00: 00\n",
            "Loss = 17.04777, F1-score: 0.197809 \t Precision: 0.15466\t Recall: 0.27436\tNDCG: 0.26101\n",
            "The time for epoch 125 is: train time = 00: 00: 10, test time = 00: 00: 01\n",
            "Loss = 17.22611, F1-score: 0.197531 \t Precision: 0.15443\t Recall: 0.27402\tNDCG: 0.26002\n",
            "The time for epoch 126 is: train time = 00: 00: 10, test time = 00: 00: 00\n",
            "Loss = 17.31800, F1-score: 0.197129 \t Precision: 0.15418\t Recall: 0.27323\tNDCG: 0.25889\n",
            "The time for epoch 127 is: train time = 00: 00: 10, test time = 00: 00: 00\n",
            "Loss = 17.32316, F1-score: 0.197461 \t Precision: 0.15440\t Recall: 0.27383\tNDCG: 0.25983\n",
            "The time for epoch 128 is: train time = 00: 00: 10, test time = 00: 00: 00\n",
            "Loss = 17.55445, F1-score: 0.197801 \t Precision: 0.15469\t Recall: 0.27422\tNDCG: 0.26047\n",
            "The time for epoch 129 is: train time = 00: 00: 09, test time = 00: 00: 00\n",
            "Loss = 16.91724, F1-score: 0.198161 \t Precision: 0.15502\t Recall: 0.27456\tNDCG: 0.26103\n",
            "##########################################\n",
            "Early stop is triggered at 129 epochs.\n",
            "Results:\n",
            "best epoch = 79, best recall = 0.2777892283166292, best ndcg = 0.26392490396180135\n",
            "The best model is saved at ./ultragcn_ml-1m.pt\n",
            "Training end!\n",
            "END\n"
          ]
        }
      ]
    },
    {
      "cell_type": "code",
      "source": [],
      "metadata": {
        "id": "SaULaOBO07aI"
      },
      "execution_count": null,
      "outputs": []
    }
  ]
}