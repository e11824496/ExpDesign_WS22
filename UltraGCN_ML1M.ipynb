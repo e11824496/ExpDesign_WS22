{
  "nbformat": 4,
  "nbformat_minor": 0,
  "metadata": {
    "colab": {
      "provenance": []
    },
    "kernelspec": {
      "name": "python3",
      "display_name": "Python 3"
    },
    "language_info": {
      "name": "python"
    },
    "accelerator": "GPU",
    "gpuClass": "standard"
  },
  "cells": [
    {
      "cell_type": "code",
      "execution_count": null,
      "metadata": {
        "colab": {
          "base_uri": "https://localhost:8080/"
        },
        "id": "0bZx6oNJ0lrq",
        "outputId": "c24fff41-7bf1-471a-8257-f2b1c917df8d"
      },
      "outputs": [
        {
          "output_type": "stream",
          "name": "stdout",
          "text": [
            "Cloning into 'ExpDesign_WS22'...\n",
            "remote: Enumerating objects: 104, done.\u001b[K\n",
            "remote: Counting objects: 100% (54/54), done.\u001b[K\n",
            "remote: Compressing objects: 100% (42/42), done.\u001b[K\n",
            "remote: Total 104 (delta 25), reused 37 (delta 11), pack-reused 50\u001b[K\n",
            "Receiving objects: 100% (104/104), 44.11 MiB | 12.95 MiB/s, done.\n",
            "Resolving deltas: 100% (31/31), done.\n"
          ]
        }
      ],
      "source": [
        "!git clone https://github.com/e11824496/ExpDesign_WS22.git"
      ]
    },
    {
      "cell_type": "code",
      "source": [
        "%cd ExpDesign_WS22/UltraGCN/"
      ],
      "metadata": {
        "colab": {
          "base_uri": "https://localhost:8080/"
        },
        "id": "tuiXu1ka0pn1",
        "outputId": "b2a1f574-b349-427f-e04e-ff27e2672c70"
      },
      "execution_count": null,
      "outputs": [
        {
          "output_type": "stream",
          "name": "stdout",
          "text": [
            "/content/ExpDesign_WS22/UltraGCN\n"
          ]
        }
      ]
    },
    {
      "cell_type": "code",
      "source": [
        "!python main.py --config_file ml-1m_config.ini"
      ],
      "metadata": {
        "colab": {
          "base_uri": "https://localhost:8080/"
        },
        "id": "YxRKrxBq0ty1",
        "outputId": "87c3eb24-0aae-4bfd-a411-e91b2f070054"
      },
      "execution_count": null,
      "outputs": [
        {
          "output_type": "stream",
          "name": "stdout",
          "text": [
            "###################### UltraGCN ######################\n",
            "1. Loading Configuration...\n",
            "/usr/local/lib/python3.8/dist-packages/torch/utils/data/dataloader.py:554: UserWarning: This DataLoader will create 5 worker processes in total. Our suggested max number of worker in current system is 2, which is smaller than what this DataLoader is going to create. Please be aware that excessive worker creation might get DataLoader running slow or even freeze, lower the worker number to avoid potential slowness/freeze if necessary.\n",
            "  warnings.warn(_create_warning_msg(\n",
            "\n",
            "Computing \\Omega for the item-item graph... \n",
            "i-i constraint matrix 0 ok\n",
            "Computation \\Omega OK!\n",
            "store object in path = ./ml-1m_ii_neighbor_mat ok\n",
            "store object in path = ./ml-1m_ii_constraint_mat ok\n",
            "Load Configuration OK, show them below\n",
            "Configuration:\n",
            "{'embedding_dim': 128, 'ii_neighbor_num': 10, 'model_save_path': './ultragcn_ml-1m.pt', 'max_epoch': 2000, 'enable_tensorboard': True, 'initial_weight': 0.001, 'dataset': 'ml-1m', 'gpu': '0', 'device': device(type='cuda', index=0), 'lr': 0.001, 'batch_size': 1024, 'early_stop_epoch': 50, 'w1': 1e-07, 'w2': 1.0, 'w3': 1e-07, 'w4': 1.0, 'negative_num': 200, 'negative_weight': 200.0, 'gamma': 0.0001, 'lambda': 0.001, 'sampling_sift_pos': False, 'test_batch_size': 2048, 'topk': 20, 'user_num': 6022, 'item_num': 3043}\n",
            "Total training batches = 707\n",
            "/usr/local/lib/python3.8/dist-packages/torch/utils/data/dataloader.py:554: UserWarning: This DataLoader will create 5 worker processes in total. Our suggested max number of worker in current system is 2, which is smaller than what this DataLoader is going to create. Please be aware that excessive worker creation might get DataLoader running slow or even freeze, lower the worker number to avoid potential slowness/freeze if necessary.\n",
            "  warnings.warn(_create_warning_msg(\n",
            "The time for epoch 0 is: train time = 00: 00: 10, test time = 00: 00: 01\n",
            "Loss = 3.16413, F1-score: 0.068927 \t Precision: 0.05247\t Recall: 0.10041\tNDCG: 0.08683\n",
            "The time for epoch 5 is: train time = 00: 00: 09, test time = 00: 00: 00\n",
            "Loss = 3.37032, F1-score: 0.068477 \t Precision: 0.05218\t Recall: 0.09956\tNDCG: 0.08656\n",
            "The time for epoch 10 is: train time = 00: 00: 09, test time = 00: 00: 00\n",
            "Loss = 2.97775, F1-score: 0.068210 \t Precision: 0.05190\t Recall: 0.09947\tNDCG: 0.08573\n",
            "The time for epoch 15 is: train time = 00: 00: 09, test time = 00: 00: 00\n",
            "Loss = 3.22697, F1-score: 0.086624 \t Precision: 0.06620\t Recall: 0.12528\tNDCG: 0.11322\n",
            "The time for epoch 20 is: train time = 00: 00: 09, test time = 00: 00: 00\n",
            "Loss = 3.74282, F1-score: 0.109249 \t Precision: 0.08121\t Recall: 0.16686\tNDCG: 0.14375\n",
            "The time for epoch 25 is: train time = 00: 00: 09, test time = 00: 00: 00\n",
            "Loss = 4.03942, F1-score: 0.121666 \t Precision: 0.08907\t Recall: 0.19191\tNDCG: 0.15861\n",
            "The time for epoch 30 is: train time = 00: 00: 09, test time = 00: 00: 00\n",
            "Loss = 4.15078, F1-score: 0.127415 \t Precision: 0.09251\t Recall: 0.20462\tNDCG: 0.16700\n",
            "The time for epoch 35 is: train time = 00: 00: 09, test time = 00: 00: 00\n",
            "Loss = 4.40329, F1-score: 0.131656 \t Precision: 0.09510\t Recall: 0.21386\tNDCG: 0.17352\n",
            "The time for epoch 40 is: train time = 00: 00: 09, test time = 00: 00: 00\n",
            "Loss = 4.50173, F1-score: 0.133858 \t Precision: 0.09622\t Recall: 0.21985\tNDCG: 0.17634\n",
            "The time for epoch 45 is: train time = 00: 00: 09, test time = 00: 00: 00\n",
            "Loss = 4.58186, F1-score: 0.136178 \t Precision: 0.09778\t Recall: 0.22422\tNDCG: 0.18025\n",
            "The time for epoch 50 is: train time = 00: 00: 09, test time = 00: 00: 00\n",
            "Loss = 4.80471, F1-score: 0.137435 \t Precision: 0.09866\t Recall: 0.22641\tNDCG: 0.18197\n",
            "The time for epoch 51 is: train time = 00: 00: 09, test time = 00: 00: 00\n",
            "Loss = 4.90796, F1-score: 0.137485 \t Precision: 0.09861\t Recall: 0.22698\tNDCG: 0.18235\n",
            "The time for epoch 52 is: train time = 00: 00: 09, test time = 00: 00: 00\n",
            "Loss = 4.87360, F1-score: 0.137495 \t Precision: 0.09858\t Recall: 0.22717\tNDCG: 0.18245\n",
            "The time for epoch 53 is: train time = 00: 00: 09, test time = 00: 00: 00\n",
            "Loss = 4.96279, F1-score: 0.137655 \t Precision: 0.09879\t Recall: 0.22695\tNDCG: 0.18246\n",
            "The time for epoch 54 is: train time = 00: 00: 09, test time = 00: 00: 00\n",
            "Loss = 4.92701, F1-score: 0.137990 \t Precision: 0.09889\t Recall: 0.22824\tNDCG: 0.18309\n",
            "The time for epoch 55 is: train time = 00: 00: 09, test time = 00: 00: 00\n",
            "Loss = 5.01008, F1-score: 0.139527 \t Precision: 0.10001\t Recall: 0.23068\tNDCG: 0.18432\n",
            "The time for epoch 56 is: train time = 00: 00: 09, test time = 00: 00: 00\n",
            "Loss = 5.08445, F1-score: 0.138904 \t Precision: 0.09949\t Recall: 0.23002\tNDCG: 0.18438\n",
            "The time for epoch 57 is: train time = 00: 00: 09, test time = 00: 00: 00\n",
            "Loss = 5.02646, F1-score: 0.139511 \t Precision: 0.09984\t Recall: 0.23148\tNDCG: 0.18490\n",
            "The time for epoch 58 is: train time = 00: 00: 09, test time = 00: 00: 00\n",
            "Loss = 5.12179, F1-score: 0.139067 \t Precision: 0.09961\t Recall: 0.23029\tNDCG: 0.18384\n",
            "The time for epoch 59 is: train time = 00: 00: 09, test time = 00: 00: 00\n",
            "Loss = 5.11414, F1-score: 0.138463 \t Precision: 0.09917\t Recall: 0.22933\tNDCG: 0.18256\n",
            "The time for epoch 60 is: train time = 00: 00: 09, test time = 00: 00: 00\n",
            "Loss = 5.16881, F1-score: 0.139753 \t Precision: 0.10007\t Recall: 0.23156\tNDCG: 0.18476\n",
            "The time for epoch 61 is: train time = 00: 00: 09, test time = 00: 00: 00\n",
            "Loss = 5.11373, F1-score: 0.138854 \t Precision: 0.09946\t Recall: 0.22992\tNDCG: 0.18426\n",
            "The time for epoch 62 is: train time = 00: 00: 09, test time = 00: 00: 00\n",
            "Loss = 5.25779, F1-score: 0.138202 \t Precision: 0.09906\t Recall: 0.22847\tNDCG: 0.18341\n",
            "The time for epoch 63 is: train time = 00: 00: 09, test time = 00: 00: 00\n",
            "Loss = 5.30145, F1-score: 0.138532 \t Precision: 0.09924\t Recall: 0.22931\tNDCG: 0.18409\n",
            "The time for epoch 64 is: train time = 00: 00: 09, test time = 00: 00: 00\n",
            "Loss = 5.26103, F1-score: 0.139569 \t Precision: 0.09992\t Recall: 0.23140\tNDCG: 0.18502\n",
            "The time for epoch 65 is: train time = 00: 00: 09, test time = 00: 00: 00\n",
            "Loss = 5.28912, F1-score: 0.139635 \t Precision: 0.10001\t Recall: 0.23127\tNDCG: 0.18470\n",
            "The time for epoch 66 is: train time = 00: 00: 09, test time = 00: 00: 00\n",
            "Loss = 5.30318, F1-score: 0.138959 \t Precision: 0.09969\t Recall: 0.22925\tNDCG: 0.18396\n",
            "The time for epoch 67 is: train time = 00: 00: 09, test time = 00: 00: 00\n",
            "Loss = 5.38242, F1-score: 0.139197 \t Precision: 0.09981\t Recall: 0.22994\tNDCG: 0.18477\n",
            "The time for epoch 68 is: train time = 00: 00: 09, test time = 00: 00: 00\n",
            "Loss = 5.41363, F1-score: 0.138606 \t Precision: 0.09932\t Recall: 0.22932\tNDCG: 0.18346\n",
            "The time for epoch 69 is: train time = 00: 00: 09, test time = 00: 00: 00\n",
            "Loss = 5.50316, F1-score: 0.138272 \t Precision: 0.09924\t Recall: 0.22793\tNDCG: 0.18292\n",
            "The time for epoch 70 is: train time = 00: 00: 09, test time = 00: 00: 00\n",
            "Loss = 5.53341, F1-score: 0.139224 \t Precision: 0.09983\t Recall: 0.22995\tNDCG: 0.18429\n",
            "The time for epoch 71 is: train time = 00: 00: 09, test time = 00: 00: 00\n",
            "Loss = 5.52957, F1-score: 0.138547 \t Precision: 0.09937\t Recall: 0.22873\tNDCG: 0.18388\n",
            "The time for epoch 72 is: train time = 00: 00: 09, test time = 00: 00: 00\n",
            "Loss = 5.54535, F1-score: 0.138533 \t Precision: 0.09924\t Recall: 0.22936\tNDCG: 0.18400\n",
            "The time for epoch 73 is: train time = 00: 00: 09, test time = 00: 00: 00\n",
            "Loss = 5.57704, F1-score: 0.138780 \t Precision: 0.09945\t Recall: 0.22956\tNDCG: 0.18388\n",
            "The time for epoch 74 is: train time = 00: 00: 09, test time = 00: 00: 00\n",
            "Loss = 5.58688, F1-score: 0.138207 \t Precision: 0.09910\t Recall: 0.22828\tNDCG: 0.18369\n",
            "The time for epoch 75 is: train time = 00: 00: 09, test time = 00: 00: 00\n",
            "Loss = 5.72881, F1-score: 0.138593 \t Precision: 0.09941\t Recall: 0.22876\tNDCG: 0.18403\n",
            "The time for epoch 76 is: train time = 00: 00: 09, test time = 00: 00: 00\n",
            "Loss = 5.67380, F1-score: 0.138711 \t Precision: 0.09944\t Recall: 0.22927\tNDCG: 0.18414\n",
            "The time for epoch 77 is: train time = 00: 00: 09, test time = 00: 00: 00\n",
            "Loss = 5.63045, F1-score: 0.138118 \t Precision: 0.09894\t Recall: 0.22868\tNDCG: 0.18330\n",
            "The time for epoch 78 is: train time = 00: 00: 09, test time = 00: 00: 00\n",
            "Loss = 5.67022, F1-score: 0.138398 \t Precision: 0.09904\t Recall: 0.22969\tNDCG: 0.18336\n",
            "The time for epoch 79 is: train time = 00: 00: 09, test time = 00: 00: 00\n",
            "Loss = 5.67670, F1-score: 0.137891 \t Precision: 0.09889\t Recall: 0.22770\tNDCG: 0.18301\n",
            "The time for epoch 80 is: train time = 00: 00: 09, test time = 00: 00: 00\n",
            "Loss = 5.73772, F1-score: 0.137624 \t Precision: 0.09873\t Recall: 0.22708\tNDCG: 0.18314\n",
            "The time for epoch 81 is: train time = 00: 00: 09, test time = 00: 00: 00\n",
            "Loss = 5.82474, F1-score: 0.137507 \t Precision: 0.09849\t Recall: 0.22772\tNDCG: 0.18265\n",
            "The time for epoch 82 is: train time = 00: 00: 09, test time = 00: 00: 00\n",
            "Loss = 5.74206, F1-score: 0.136890 \t Precision: 0.09807\t Recall: 0.22656\tNDCG: 0.18263\n",
            "The time for epoch 83 is: train time = 00: 00: 09, test time = 00: 00: 00\n",
            "Loss = 5.80557, F1-score: 0.137539 \t Precision: 0.09841\t Recall: 0.22834\tNDCG: 0.18248\n",
            "The time for epoch 84 is: train time = 00: 00: 09, test time = 00: 00: 00\n",
            "Loss = 5.85975, F1-score: 0.137204 \t Precision: 0.09822\t Recall: 0.22748\tNDCG: 0.18263\n",
            "The time for epoch 85 is: train time = 00: 00: 09, test time = 00: 00: 00\n",
            "Loss = 5.91175, F1-score: 0.137396 \t Precision: 0.09846\t Recall: 0.22725\tNDCG: 0.18191\n",
            "The time for epoch 86 is: train time = 00: 00: 09, test time = 00: 00: 00\n",
            "Loss = 5.87056, F1-score: 0.137149 \t Precision: 0.09825\t Recall: 0.22705\tNDCG: 0.18217\n",
            "The time for epoch 87 is: train time = 00: 00: 09, test time = 00: 00: 00\n",
            "Loss = 5.88256, F1-score: 0.137038 \t Precision: 0.09798\t Recall: 0.22787\tNDCG: 0.18178\n",
            "The time for epoch 88 is: train time = 00: 00: 09, test time = 00: 00: 00\n",
            "Loss = 5.88345, F1-score: 0.136603 \t Precision: 0.09768\t Recall: 0.22708\tNDCG: 0.18191\n",
            "The time for epoch 89 is: train time = 00: 00: 09, test time = 00: 00: 00\n",
            "Loss = 5.96306, F1-score: 0.136973 \t Precision: 0.09817\t Recall: 0.22653\tNDCG: 0.18246\n",
            "The time for epoch 90 is: train time = 00: 00: 09, test time = 00: 00: 00\n",
            "Loss = 5.98937, F1-score: 0.136606 \t Precision: 0.09784\t Recall: 0.22625\tNDCG: 0.18201\n",
            "The time for epoch 91 is: train time = 00: 00: 09, test time = 00: 00: 00\n",
            "Loss = 5.96776, F1-score: 0.136781 \t Precision: 0.09798\t Recall: 0.22645\tNDCG: 0.18167\n",
            "The time for epoch 92 is: train time = 00: 00: 09, test time = 00: 00: 00\n",
            "Loss = 6.02063, F1-score: 0.136038 \t Precision: 0.09743\t Recall: 0.22530\tNDCG: 0.18120\n",
            "The time for epoch 93 is: train time = 00: 00: 09, test time = 00: 00: 00\n",
            "Loss = 6.05067, F1-score: 0.136663 \t Precision: 0.09784\t Recall: 0.22656\tNDCG: 0.18167\n",
            "The time for epoch 94 is: train time = 00: 00: 09, test time = 00: 00: 00\n",
            "Loss = 6.03035, F1-score: 0.136408 \t Precision: 0.09766\t Recall: 0.22613\tNDCG: 0.18130\n",
            "The time for epoch 95 is: train time = 00: 00: 09, test time = 00: 00: 00\n",
            "Loss = 6.04807, F1-score: 0.136343 \t Precision: 0.09764\t Recall: 0.22587\tNDCG: 0.18120\n",
            "The time for epoch 96 is: train time = 00: 00: 09, test time = 00: 00: 00\n",
            "Loss = 6.10108, F1-score: 0.136560 \t Precision: 0.09781\t Recall: 0.22617\tNDCG: 0.18151\n",
            "The time for epoch 97 is: train time = 00: 00: 09, test time = 00: 00: 00\n",
            "Loss = 6.07358, F1-score: 0.136574 \t Precision: 0.09776\t Recall: 0.22651\tNDCG: 0.18132\n",
            "The time for epoch 98 is: train time = 00: 00: 09, test time = 00: 00: 00\n",
            "Loss = 6.16757, F1-score: 0.135603 \t Precision: 0.09712\t Recall: 0.22460\tNDCG: 0.18062\n",
            "The time for epoch 99 is: train time = 00: 00: 09, test time = 00: 00: 00\n",
            "Loss = 6.07208, F1-score: 0.136031 \t Precision: 0.09736\t Recall: 0.22566\tNDCG: 0.18057\n",
            "The time for epoch 100 is: train time = 00: 00: 09, test time = 00: 00: 00\n",
            "Loss = 6.23812, F1-score: 0.135781 \t Precision: 0.09704\t Recall: 0.22603\tNDCG: 0.18061\n",
            "The time for epoch 101 is: train time = 00: 00: 09, test time = 00: 00: 00\n",
            "Loss = 6.31049, F1-score: 0.136059 \t Precision: 0.09722\t Recall: 0.22658\tNDCG: 0.18072\n",
            "The time for epoch 102 is: train time = 00: 00: 09, test time = 00: 00: 00\n",
            "Loss = 6.19118, F1-score: 0.135859 \t Precision: 0.09719\t Recall: 0.22561\tNDCG: 0.17995\n",
            "The time for epoch 103 is: train time = 00: 00: 09, test time = 00: 00: 00\n",
            "Loss = 6.13844, F1-score: 0.135828 \t Precision: 0.09730\t Recall: 0.22486\tNDCG: 0.18098\n",
            "The time for epoch 104 is: train time = 00: 00: 09, test time = 00: 00: 00\n",
            "Loss = 6.20258, F1-score: 0.135081 \t Precision: 0.09653\t Recall: 0.22490\tNDCG: 0.18035\n",
            "The time for epoch 105 is: train time = 00: 00: 09, test time = 00: 00: 00\n",
            "Loss = 6.18085, F1-score: 0.135803 \t Precision: 0.09714\t Recall: 0.22562\tNDCG: 0.17990\n",
            "The time for epoch 106 is: train time = 00: 00: 09, test time = 00: 00: 00\n",
            "Loss = 6.21815, F1-score: 0.135356 \t Precision: 0.09678\t Recall: 0.22508\tNDCG: 0.18043\n",
            "The time for epoch 107 is: train time = 00: 00: 09, test time = 00: 00: 00\n",
            "Loss = 6.16948, F1-score: 0.135247 \t Precision: 0.09673\t Recall: 0.22474\tNDCG: 0.17920\n",
            "The time for epoch 108 is: train time = 00: 00: 09, test time = 00: 00: 00\n",
            "Loss = 6.16980, F1-score: 0.134963 \t Precision: 0.09644\t Recall: 0.22474\tNDCG: 0.17972\n",
            "The time for epoch 109 is: train time = 00: 00: 09, test time = 00: 00: 00\n",
            "Loss = 6.22594, F1-score: 0.134942 \t Precision: 0.09655\t Recall: 0.22400\tNDCG: 0.17891\n",
            "The time for epoch 110 is: train time = 00: 00: 09, test time = 00: 00: 00\n",
            "Loss = 6.23274, F1-score: 0.134624 \t Precision: 0.09620\t Recall: 0.22417\tNDCG: 0.17946\n",
            "##########################################\n",
            "Early stop is triggered at 110 epochs.\n",
            "Results:\n",
            "best epoch = 60, best recall = 0.2315630880116554, best ndcg = 0.18475835778659122\n",
            "The best model is saved at ./ultragcn_ml-1m.pt\n",
            "Training end!\n",
            "Performance on TEST set: F1-score: 6.232740 \t Precision: 0.17457\t Recall: 0.13392\tNDCG: 0.25065\n",
            "END\n"
          ]
        }
      ]
    },
    {
      "cell_type": "code",
      "source": [],
      "metadata": {
        "id": "Ihz2x9ArrOx1"
      },
      "execution_count": null,
      "outputs": []
    }
  ]
}