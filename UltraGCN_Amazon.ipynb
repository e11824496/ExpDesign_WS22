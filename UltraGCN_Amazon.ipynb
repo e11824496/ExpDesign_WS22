{
  "cells": [
    {
      "cell_type": "markdown",
      "metadata": {
        "id": "E5eNm0wP9h_e"
      },
      "source": [
        "# Experiment Design Exercise 2\n",
        "11824496 Hartmann, Fabian  \n",
        "01015083 Hepp, Sebastian  \n",
        "01457320 Mayr, Yifan  \n",
        "11810738 Moik, Matthias"
      ]
    },
    {
      "cell_type": "markdown",
      "metadata": {
        "id": "PIuiLR6A9h_g"
      },
      "source": [
        "## Set up"
      ]
    },
    {
      "cell_type": "code",
      "execution_count": null,
      "metadata": {
        "colab": {
          "base_uri": "https://localhost:8080/"
        },
        "id": "8nIXEQPY9qdh",
        "outputId": "cadf0819-85c7-4ba6-bb66-be9f3fd05c4a"
      },
      "outputs": [
        {
          "name": "stdout",
          "output_type": "stream",
          "text": [
            "Cloning into 'ExpDesign_WS22'...\n",
            "remote: Enumerating objects: 129, done.\u001b[K\n",
            "remote: Counting objects: 100% (79/79), done.\u001b[K\n",
            "remote: Compressing objects: 100% (62/62), done.\u001b[K\n",
            "remote: Total 129 (delta 40), reused 51 (delta 16), pack-reused 50\u001b[K\n",
            "Receiving objects: 100% (129/129), 47.81 MiB | 14.33 MiB/s, done.\n",
            "Resolving deltas: 100% (46/46), done.\n"
          ]
        }
      ],
      "source": [
        "!git clone https://github.com/e11824496/ExpDesign_WS22.git"
      ]
    },
    {
      "cell_type": "code",
      "execution_count": 1,
      "metadata": {
        "colab": {
          "base_uri": "https://localhost:8080/"
        },
        "id": "tuiXu1ka0pn1",
        "outputId": "ae604ca8-c67c-42b6-a8ba-c9852559e377"
      },
      "outputs": [
        {
          "name": "stdout",
          "output_type": "stream",
          "text": [
            "/content/ExpDesign_WS22/UltraGCN\n"
          ]
        }
      ],
      "source": [
        "%cd ExpDesign_WS22/UltraGCN/"
      ]
    },
    {
      "cell_type": "code",
      "execution_count": 1,
      "metadata": {
        "id": "0trlZd1U9h_k"
      },
      "outputs": [],
      "source": [
        "import numpy as np\n",
        "\n",
        "def print_eval(recall_reprod, ndcg_reprod, recall_paper, ndcg_paper, n_epochs_paper, n_epochs_reprod):\n",
        "    recall_reprod_off_by = (recall_reprod - recall_paper) / recall_paper\n",
        "    ndcg_reprod_off_by = (ndcg_reprod - ndcg_paper) / ndcg_paper\n",
        "    diff_epochs = n_epochs_paper - n_epochs_reprod\n",
        "\n",
        "    print(f\"reproduced recall off by {round(recall_reprod_off_by * 100, 2)}%\")\n",
        "    print(f\"reproduced NDCG off by {round(ndcg_reprod_off_by * 100, 2)}%\")\n",
        "    print()\n",
        "    print(f\"difference in epochs needed when reproducing: {diff_epochs} epochs or {round((diff_epochs) / n_epochs_reprod * 100, 2)}%\")\n",
        "\n",
        "\n",
        "#92000 items, 52000 users\n",
        "def sample_amazon_set(user_cutoff, item_cutoff, seed = 42):\n",
        "    train_file = open(\"data/amazon/train.txt\",\"r+\")\n",
        "    train_data = train_file.readlines()\n",
        "    test_file = open(\"data/amazon/test.txt\",\"r+\")\n",
        "    test_data = test_file.readlines()\n",
        "    item_list = open(\"data/amazon/item_list.txt\",\"r+\")\n",
        "    n_items = len(item_list.readlines())-1\n",
        "\n",
        "    np.random.seed(seed)\n",
        "    sampled_items = {k: i for i, k in enumerate(np.random.choice(np.arange(n_items), item_cutoff, replace = False))}\n",
        "\n",
        "    train_file_out = open(\"data/amazon_sampled/train.txt\", \"w\")\n",
        "    test_file_out = open(\"data/amazon_sampled/test.txt\", \"w\")\n",
        "\n",
        "\n",
        "    current_line = 0\n",
        "    current_user_id = 0\n",
        "    while current_user_id < user_cutoff and current_line < len(train_data):\n",
        "        line = train_data[current_line]\n",
        "        current_user_items_train = [int(x) for x in line.split()[1:]]\n",
        "        current_user_items_train_filterd = [sampled_items[x] for x in current_user_items_train if x in sampled_items]\n",
        "        \n",
        "        line = test_data[current_line]\n",
        "        current_user_items_test = [int(x) for x in line.split()[1:]]\n",
        "        current_user_items_test_filterd = [sampled_items[x] for x in current_user_items_test if x in sampled_items]\n",
        "\n",
        "        if len(current_user_items_train_filterd) < 5 or len(current_user_items_test_filterd) < 2: \n",
        "            current_line += 1\n",
        "            continue\n",
        "        else:\n",
        "            train_file_out.write(\" \".join(map(str,[current_user_id] + current_user_items_train_filterd)) + '\\n')\n",
        "            test_file_out.write(\" \".join(map(str,[current_user_id] + current_user_items_test_filterd)) + '\\n')\n",
        "            current_user_id += 1\n",
        "            current_line += 1\n",
        "\n",
        "    print(f'Number of users: {current_user_id}')\n",
        "  \n",
        "    "
      ]
    },
    {
      "cell_type": "markdown",
      "metadata": {
        "id": "g87E0yAo9h_p"
      },
      "source": [
        "## Reproducing Amazon results (sampled dataset due to RAM constraints)"
      ]
    },
    {
      "cell_type": "code",
      "execution_count": 3,
      "metadata": {
        "id": "nKkx5KVB57v-"
      },
      "outputs": [],
      "source": [
        "import main"
      ]
    },
    {
      "cell_type": "code",
      "execution_count": null,
      "metadata": {
        "colab": {
          "base_uri": "https://localhost:8080/"
        },
        "id": "O7thDTsK0g3i",
        "outputId": "e248941c-a79c-4354-ab71-f793ab866ee9"
      },
      "outputs": [
        {
          "name": "stdout",
          "output_type": "stream",
          "text": [
            "Number of users: 21057\n"
          ]
        }
      ],
      "source": [
        "#sample_amazon_set(17547, 30863) # 33% of users and items\n",
        "sample_amazon_set(21057, 36640) # 40% of users and items"
      ]
    },
    {
      "cell_type": "code",
      "execution_count": null,
      "metadata": {
        "colab": {
          "base_uri": "https://localhost:8080/"
        },
        "id": "b0s41X5K9lAh",
        "outputId": "e8d52050-9a56-4160-a7d3-d0a98eb11410"
      },
      "outputs": [
        {
          "name": "stdout",
          "output_type": "stream",
          "text": [
            "###################### UltraGCN ######################\n",
            "1. Loading Configuration...\n"
          ]
        },
        {
          "name": "stderr",
          "output_type": "stream",
          "text": [
            "/usr/local/lib/python3.8/dist-packages/torch/utils/data/dataloader.py:554: UserWarning: This DataLoader will create 5 worker processes in total. Our suggested max number of worker in current system is 2, which is smaller than what this DataLoader is going to create. Please be aware that excessive worker creation might get DataLoader running slow or even freeze, lower the worker number to avoid potential slowness/freeze if necessary.\n",
            "  warnings.warn(_create_warning_msg(\n"
          ]
        },
        {
          "name": "stdout",
          "output_type": "stream",
          "text": [
            "Computing \\Omega for the item-item graph... \n"
          ]
        },
        {
          "name": "stderr",
          "output_type": "stream",
          "text": [
            "/content/ExpDesign_WS22/UltraGCN/main_custom_parameters.py:95: RuntimeWarning: divide by zero encountered in true_divide\n",
            "  beta_uD = (np.sqrt(users_D + 1) / users_D).reshape(-1, 1)\n"
          ]
        },
        {
          "name": "stdout",
          "output_type": "stream",
          "text": [
            "i-i constraint matrix 0 ok\n",
            "i-i constraint matrix 15000 ok\n",
            "i-i constraint matrix 30000 ok\n",
            "Computation \\Omega OK!\n",
            "store object in path = ./amazon_sampled_ii_neighbor_mat_10 ok\n",
            "store object in path = ./amazon_sampled_ii_constraint_mat_10 ok\n",
            "Load Configuration OK, show them below\n",
            "Configuration:\n",
            "{'embedding_dim': 64, 'ii_neighbor_num': 10, 'model_save_path': './ultragcn_amazon_sampled.pt', 'max_epoch': 2000, 'enable_tensorboard': True, 'initial_weight': 0.0001, 'dataset': 'amazon_sampled', 'train_file_path': './data/amazon_sampled/train.txt', 'gpu': '0', 'learning_rate': 0.001, 'batch_size': 1024, 'early_stop_epoch': 15, 'w1': 1e-08, 'w2': 1.0, 'w3': 1.0, 'w4': 1e-08, 'negative_num': 500, 'negative_weight': 500.0, 'gamma': 0.0001, 'lambda': 2.75, 'sampling_sift_pos': False, 'test_batch_size': 2048, 'topk': 20, 'test_file_path': './data/amazon_sampled/test.txt', 'device': device(type='cuda', index=0), 'user_num': 21057, 'item_num': 36640}\n",
            "Total training batches = 493\n"
          ]
        },
        {
          "name": "stderr",
          "output_type": "stream",
          "text": [
            "/usr/local/lib/python3.8/dist-packages/torch/utils/data/dataloader.py:554: UserWarning: This DataLoader will create 5 worker processes in total. Our suggested max number of worker in current system is 2, which is smaller than what this DataLoader is going to create. Please be aware that excessive worker creation might get DataLoader running slow or even freeze, lower the worker number to avoid potential slowness/freeze if necessary.\n",
            "  warnings.warn(_create_warning_msg(\n"
          ]
        },
        {
          "name": "stdout",
          "output_type": "stream",
          "text": [
            "The time for epoch 0 is: train time = 00: 00: 14, test time = 00: 00: 08\n",
            "Loss = 26009.67773, F1-score: 0.001783 \t Precision: 0.00113\t Recall: 0.00429\tNDCG: 0.00407\n",
            "The time for epoch 5 is: train time = 00: 00: 11, test time = 00: 00: 05\n",
            "Loss = 1747.20483, F1-score: 0.004798 \t Precision: 0.00302\t Recall: 0.01169\tNDCG: 0.00795\n",
            "The time for epoch 10 is: train time = 00: 00: 12, test time = 00: 00: 05\n",
            "Loss = 1577.30396, F1-score: 0.004786 \t Precision: 0.00300\t Recall: 0.01177\tNDCG: 0.00788\n",
            "The time for epoch 15 is: train time = 00: 00: 12, test time = 00: 00: 05\n",
            "Loss = 1511.96423, F1-score: 0.004791 \t Precision: 0.00301\t Recall: 0.01180\tNDCG: 0.00807\n",
            "The time for epoch 20 is: train time = 00: 00: 11, test time = 00: 00: 05\n",
            "Loss = 1501.38989, F1-score: 0.004253 \t Precision: 0.00268\t Recall: 0.01035\tNDCG: 0.00723\n",
            "The time for epoch 25 is: train time = 00: 00: 11, test time = 00: 00: 05\n",
            "Loss = 1490.27222, F1-score: 0.005038 \t Precision: 0.00318\t Recall: 0.01217\tNDCG: 0.00796\n",
            "The time for epoch 30 is: train time = 00: 00: 11, test time = 00: 00: 05\n",
            "Loss = 1396.21899, F1-score: 0.009431 \t Precision: 0.00600\t Recall: 0.02202\tNDCG: 0.01416\n",
            "The time for epoch 35 is: train time = 00: 00: 11, test time = 00: 00: 05\n",
            "Loss = 1232.59644, F1-score: 0.014812 \t Precision: 0.00940\t Recall: 0.03487\tNDCG: 0.02276\n",
            "The time for epoch 40 is: train time = 00: 00: 11, test time = 00: 00: 05\n",
            "Loss = 1100.63293, F1-score: 0.018493 \t Precision: 0.01167\t Recall: 0.04458\tNDCG: 0.02923\n",
            "The time for epoch 45 is: train time = 00: 00: 11, test time = 00: 00: 05\n",
            "Loss = 1066.30872, F1-score: 0.020581 \t Precision: 0.01290\t Recall: 0.05082\tNDCG: 0.03284\n",
            "The time for epoch 50 is: train time = 00: 00: 11, test time = 00: 00: 05\n",
            "Loss = 1007.19067, F1-score: 0.021655 \t Precision: 0.01354\t Recall: 0.05409\tNDCG: 0.03527\n",
            "The time for epoch 51 is: train time = 00: 00: 11, test time = 00: 00: 05\n",
            "Loss = 994.82715, F1-score: 0.021700 \t Precision: 0.01356\t Recall: 0.05428\tNDCG: 0.03555\n",
            "The time for epoch 52 is: train time = 00: 00: 11, test time = 00: 00: 05\n",
            "Loss = 1026.78845, F1-score: 0.021807 \t Precision: 0.01363\t Recall: 0.05455\tNDCG: 0.03568\n",
            "The time for epoch 53 is: train time = 00: 00: 11, test time = 00: 00: 05\n",
            "Loss = 1005.13965, F1-score: 0.022001 \t Precision: 0.01373\t Recall: 0.05530\tNDCG: 0.03636\n",
            "The time for epoch 54 is: train time = 00: 00: 11, test time = 00: 00: 05\n",
            "Loss = 972.96777, F1-score: 0.022294 \t Precision: 0.01391\t Recall: 0.05617\tNDCG: 0.03652\n",
            "The time for epoch 55 is: train time = 00: 00: 12, test time = 00: 00: 05\n",
            "Loss = 999.31665, F1-score: 0.022130 \t Precision: 0.01381\t Recall: 0.05574\tNDCG: 0.03639\n",
            "The time for epoch 56 is: train time = 00: 00: 12, test time = 00: 00: 05\n",
            "Loss = 964.74780, F1-score: 0.022350 \t Precision: 0.01394\t Recall: 0.05630\tNDCG: 0.03686\n",
            "The time for epoch 57 is: train time = 00: 00: 11, test time = 00: 00: 05\n",
            "Loss = 960.92694, F1-score: 0.022349 \t Precision: 0.01392\t Recall: 0.05670\tNDCG: 0.03696\n",
            "The time for epoch 58 is: train time = 00: 00: 11, test time = 00: 00: 05\n",
            "Loss = 965.32233, F1-score: 0.022306 \t Precision: 0.01389\t Recall: 0.05654\tNDCG: 0.03683\n",
            "The time for epoch 59 is: train time = 00: 00: 11, test time = 00: 00: 05\n",
            "Loss = 959.68982, F1-score: 0.022341 \t Precision: 0.01390\t Recall: 0.05684\tNDCG: 0.03704\n",
            "The time for epoch 60 is: train time = 00: 00: 11, test time = 00: 00: 05\n",
            "Loss = 954.47998, F1-score: 0.022286 \t Precision: 0.01387\t Recall: 0.05665\tNDCG: 0.03708\n",
            "The time for epoch 61 is: train time = 00: 00: 11, test time = 00: 00: 05\n",
            "Loss = 911.32019, F1-score: 0.022426 \t Precision: 0.01396\t Recall: 0.05695\tNDCG: 0.03725\n",
            "The time for epoch 62 is: train time = 00: 00: 11, test time = 00: 00: 05\n",
            "Loss = 932.48322, F1-score: 0.022478 \t Precision: 0.01399\t Recall: 0.05710\tNDCG: 0.03726\n",
            "The time for epoch 63 is: train time = 00: 00: 11, test time = 00: 00: 05\n",
            "Loss = 917.02917, F1-score: 0.022323 \t Precision: 0.01388\t Recall: 0.05693\tNDCG: 0.03719\n",
            "The time for epoch 64 is: train time = 00: 00: 11, test time = 00: 00: 05\n",
            "Loss = 920.62787, F1-score: 0.022364 \t Precision: 0.01391\t Recall: 0.05702\tNDCG: 0.03719\n",
            "The time for epoch 65 is: train time = 00: 00: 11, test time = 00: 00: 05\n",
            "Loss = 935.51630, F1-score: 0.022152 \t Precision: 0.01375\t Recall: 0.05691\tNDCG: 0.03690\n",
            "The time for epoch 66 is: train time = 00: 00: 11, test time = 00: 00: 05\n",
            "Loss = 913.33527, F1-score: 0.022342 \t Precision: 0.01387\t Recall: 0.05733\tNDCG: 0.03716\n",
            "The time for epoch 67 is: train time = 00: 00: 11, test time = 00: 00: 05\n",
            "Loss = 907.60315, F1-score: 0.022362 \t Precision: 0.01391\t Recall: 0.05699\tNDCG: 0.03718\n",
            "The time for epoch 68 is: train time = 00: 00: 11, test time = 00: 00: 05\n",
            "Loss = 903.91357, F1-score: 0.022337 \t Precision: 0.01388\t Recall: 0.05719\tNDCG: 0.03712\n",
            "The time for epoch 69 is: train time = 00: 00: 11, test time = 00: 00: 05\n",
            "Loss = 918.36304, F1-score: 0.022267 \t Precision: 0.01384\t Recall: 0.05696\tNDCG: 0.03723\n",
            "The time for epoch 70 is: train time = 00: 00: 11, test time = 00: 00: 05\n",
            "Loss = 903.40930, F1-score: 0.022392 \t Precision: 0.01391\t Recall: 0.05742\tNDCG: 0.03729\n",
            "The time for epoch 71 is: train time = 00: 00: 11, test time = 00: 00: 05\n",
            "Loss = 912.34216, F1-score: 0.022227 \t Precision: 0.01381\t Recall: 0.05688\tNDCG: 0.03718\n",
            "The time for epoch 72 is: train time = 00: 00: 11, test time = 00: 00: 05\n",
            "Loss = 911.82697, F1-score: 0.022260 \t Precision: 0.01385\t Recall: 0.05675\tNDCG: 0.03713\n",
            "The time for epoch 73 is: train time = 00: 00: 11, test time = 00: 00: 05\n",
            "Loss = 899.79834, F1-score: 0.022105 \t Precision: 0.01374\t Recall: 0.05644\tNDCG: 0.03696\n",
            "The time for epoch 74 is: train time = 00: 00: 11, test time = 00: 00: 05\n",
            "Loss = 884.32214, F1-score: 0.022178 \t Precision: 0.01379\t Recall: 0.05656\tNDCG: 0.03726\n",
            "The time for epoch 75 is: train time = 00: 00: 11, test time = 00: 00: 05\n",
            "Loss = 911.19678, F1-score: 0.021910 \t Precision: 0.01362\t Recall: 0.05602\tNDCG: 0.03702\n",
            "The time for epoch 76 is: train time = 00: 00: 11, test time = 00: 00: 05\n",
            "Loss = 908.07367, F1-score: 0.022021 \t Precision: 0.01368\t Recall: 0.05643\tNDCG: 0.03690\n",
            "The time for epoch 77 is: train time = 00: 00: 11, test time = 00: 00: 05\n",
            "Loss = 886.17413, F1-score: 0.022095 \t Precision: 0.01374\t Recall: 0.05635\tNDCG: 0.03701\n",
            "The time for epoch 78 is: train time = 00: 00: 11, test time = 00: 00: 05\n",
            "Loss = 882.87872, F1-score: 0.021966 \t Precision: 0.01365\t Recall: 0.05623\tNDCG: 0.03706\n",
            "The time for epoch 79 is: train time = 00: 00: 11, test time = 00: 00: 05\n",
            "Loss = 874.79907, F1-score: 0.021850 \t Precision: 0.01359\t Recall: 0.05564\tNDCG: 0.03672\n",
            "The time for epoch 80 is: train time = 00: 00: 11, test time = 00: 00: 05\n",
            "Loss = 857.81458, F1-score: 0.021957 \t Precision: 0.01367\t Recall: 0.05583\tNDCG: 0.03678\n",
            "The time for epoch 81 is: train time = 00: 00: 11, test time = 00: 00: 05\n",
            "Loss = 859.84692, F1-score: 0.021913 \t Precision: 0.01362\t Recall: 0.05610\tNDCG: 0.03685\n",
            "The time for epoch 82 is: train time = 00: 00: 11, test time = 00: 00: 05\n",
            "Loss = 858.06146, F1-score: 0.021761 \t Precision: 0.01353\t Recall: 0.05548\tNDCG: 0.03662\n",
            "The time for epoch 83 is: train time = 00: 00: 11, test time = 00: 00: 05\n",
            "Loss = 863.72284, F1-score: 0.021779 \t Precision: 0.01354\t Recall: 0.05563\tNDCG: 0.03657\n",
            "The time for epoch 84 is: train time = 00: 00: 11, test time = 00: 00: 05\n",
            "Loss = 877.54102, F1-score: 0.021848 \t Precision: 0.01358\t Recall: 0.05589\tNDCG: 0.03668\n",
            "The time for epoch 85 is: train time = 00: 00: 11, test time = 00: 00: 05\n",
            "Loss = 871.27148, F1-score: 0.022015 \t Precision: 0.01369\t Recall: 0.05611\tNDCG: 0.03686\n",
            "##########################################\n",
            "Early stop is triggered at 85 epochs.\n",
            "Results:\n",
            "best epoch = 70, best recall = 0.057421455844465494, best ndcg = 0.03728846210162489\n",
            "The best model is saved at ./ultragcn_amazon_sampled.pt\n",
            "Training end!\n",
            "END\n"
          ]
        }
      ],
      "source": [
        "main.run('amazon_sampled_config.ini')"
      ]
    },
    {
      "cell_type": "code",
      "execution_count": 2,
      "metadata": {
        "colab": {
          "base_uri": "https://localhost:8080/"
        },
        "id": "GoKjA1SS9h_t",
        "outputId": "927e7a01-ea29-4f66-c90f-af0a6c0f299e"
      },
      "outputs": [
        {
          "name": "stdout",
          "output_type": "stream",
          "text": [
            "reproduced recall off by -15.68%\n",
            "reproduced NDCG off by -32.93%\n",
            "\n",
            "difference in epochs needed when reproducing: 1 epochs or 1.18%\n"
          ]
        }
      ],
      "source": [
        "recall_paper = 0.0681\n",
        "ndcg_paper = 0.0556\n",
        "epochs_paper = 86\n",
        "\n",
        "recall_reprod = 0.057421455844465494\n",
        "ndcg_reprod = 0.03728846210162489\n",
        "epochs_reprod = 85\n",
        "\n",
        "print_eval(recall_reprod, ndcg_reprod, recall_paper, ndcg_paper, epochs_paper, epochs_reprod)"
      ]
    },
    {
      "cell_type": "markdown",
      "metadata": {
        "id": "s1XSpKHJNEe4"
      },
      "source": [
        "## Ablation study\n",
        "disable different parameters by overwriting:\n",
        "1. lambda = 0, gamma = 0\n",
        "1. lambda = 0\n",
        "1. gamma = 0"
      ]
    },
    {
      "cell_type": "code",
      "execution_count": null,
      "metadata": {
        "colab": {
          "base_uri": "https://localhost:8080/"
        },
        "id": "G82RyTggNXyn",
        "outputId": "8863b963-662e-4ec7-ee89-dc4a721c1b8d"
      },
      "outputs": [
        {
          "name": "stdout",
          "output_type": "stream",
          "text": [
            "###################### UltraGCN ######################\n",
            "1. Loading Configuration...\n",
            "load path = ./amazon_sampled_ii_constraint_mat_10 object\n",
            "load path = ./amazon_sampled_ii_neighbor_mat_10 object\n",
            "Load Configuration OK, show them below\n",
            "Configuration:\n",
            "{'embedding_dim': 64, 'ii_neighbor_num': 10, 'model_save_path': './ultragcn_amazon_sampled.pt', 'max_epoch': 2000, 'enable_tensorboard': True, 'initial_weight': 0.0001, 'dataset': 'amazon_sampled', 'train_file_path': './data/amazon_sampled/train.txt', 'gpu': '0', 'learning_rate': 0.001, 'batch_size': 1024, 'early_stop_epoch': 15, 'w1': 1e-08, 'w2': 1.0, 'w3': 1.0, 'w4': 1e-08, 'negative_num': 500, 'negative_weight': 500.0, 'gamma': 0.0, 'lambda': 0.0, 'sampling_sift_pos': False, 'test_batch_size': 2048, 'topk': 20, 'test_file_path': './data/amazon_sampled/test.txt', 'device': device(type='cuda', index=0), 'user_num': 21057, 'item_num': 36640}\n",
            "Total training batches = 493\n",
            "##########################################\n",
            "Early stop is triggered at 80 epochs.\n",
            "Results:\n",
            "best epoch = 65, best recall = 0.04918000384021738, best ndcg = 0.030738173917234976\n",
            "The best model is saved at ./ultragcn_amazon_sampled.pt\n",
            "Training end!\n",
            "END\n"
          ]
        }
      ],
      "source": [
        "custom_params = {\n",
        "    'gamma': 0, \n",
        "    'lambda': 0\n",
        "}\n",
        "main.run('amazon_sampled_config.ini', custom_params, report_progress=False)"
      ]
    },
    {
      "cell_type": "code",
      "execution_count": null,
      "metadata": {
        "colab": {
          "base_uri": "https://localhost:8080/"
        },
        "id": "jS-9lGmzPcEZ",
        "outputId": "37fbd36d-f106-4593-8da0-58dca448282a"
      },
      "outputs": [
        {
          "name": "stdout",
          "output_type": "stream",
          "text": [
            "###################### UltraGCN ######################\n",
            "1. Loading Configuration...\n",
            "load path = ./amazon_sampled_ii_constraint_mat_10 object\n",
            "load path = ./amazon_sampled_ii_neighbor_mat_10 object\n",
            "Load Configuration OK, show them below\n",
            "Configuration:\n",
            "{'embedding_dim': 64, 'ii_neighbor_num': 10, 'model_save_path': './ultragcn_amazon_sampled.pt', 'max_epoch': 2000, 'enable_tensorboard': True, 'initial_weight': 0.0001, 'dataset': 'amazon_sampled', 'train_file_path': './data/amazon_sampled/train.txt', 'gpu': '0', 'learning_rate': 0.001, 'batch_size': 1024, 'early_stop_epoch': 15, 'w1': 1e-08, 'w2': 1.0, 'w3': 1.0, 'w4': 1e-08, 'negative_num': 500, 'negative_weight': 500.0, 'gamma': 0.0001, 'lambda': 0.0, 'sampling_sift_pos': False, 'test_batch_size': 2048, 'topk': 20, 'test_file_path': './data/amazon_sampled/test.txt', 'device': device(type='cuda', index=0), 'user_num': 21057, 'item_num': 36640}\n",
            "Total training batches = 493\n",
            "##########################################\n",
            "Early stop is triggered at 89 epochs.\n",
            "Results:\n",
            "best epoch = 74, best recall = 0.050109096677435815, best ndcg = 0.031403093994895125\n",
            "The best model is saved at ./ultragcn_amazon_sampled.pt\n",
            "Training end!\n",
            "END\n"
          ]
        }
      ],
      "source": [
        "custom_params = {\n",
        "    'lambda': 0\n",
        "}\n",
        "main.run('amazon_sampled_config.ini', custom_params, report_progress=False)"
      ]
    },
    {
      "cell_type": "code",
      "execution_count": null,
      "metadata": {
        "colab": {
          "base_uri": "https://localhost:8080/"
        },
        "id": "NrG68foiPfUo",
        "outputId": "eaa52df6-d378-4896-8a5f-999b1539f5a5"
      },
      "outputs": [
        {
          "name": "stdout",
          "output_type": "stream",
          "text": [
            "###################### UltraGCN ######################\n",
            "1. Loading Configuration...\n",
            "load path = ./amazon_sampled_ii_constraint_mat_10 object\n",
            "load path = ./amazon_sampled_ii_neighbor_mat_10 object\n",
            "Load Configuration OK, show them below\n",
            "Configuration:\n",
            "{'embedding_dim': 64, 'ii_neighbor_num': 10, 'model_save_path': './ultragcn_amazon_sampled.pt', 'max_epoch': 2000, 'enable_tensorboard': True, 'initial_weight': 0.0001, 'dataset': 'amazon_sampled', 'train_file_path': './data/amazon_sampled/train.txt', 'gpu': '0', 'learning_rate': 0.001, 'batch_size': 1024, 'early_stop_epoch': 15, 'w1': 1e-08, 'w2': 1.0, 'w3': 1.0, 'w4': 1e-08, 'negative_num': 500, 'negative_weight': 500.0, 'gamma': 0.0, 'lambda': 2.75, 'sampling_sift_pos': False, 'test_batch_size': 2048, 'topk': 20, 'test_file_path': './data/amazon_sampled/test.txt', 'device': device(type='cuda', index=0), 'user_num': 21057, 'item_num': 36640}\n",
            "Total training batches = 493\n",
            "##########################################\n",
            "Early stop is triggered at 75 epochs.\n",
            "Results:\n",
            "best epoch = 60, best recall = 0.05677387126798456, best ndcg = 0.03702149429681787\n",
            "The best model is saved at ./ultragcn_amazon_sampled.pt\n",
            "Training end!\n",
            "END\n"
          ]
        }
      ],
      "source": [
        "custom_params = {\n",
        "    'gamma': 0 \n",
        "}\n",
        "main.run('amazon_sampled_config.ini', custom_params, report_progress=False)"
      ]
    },
    {
      "cell_type": "code",
<<<<<<< HEAD
      "execution_count": 32,
=======
      "execution_count": 25,
>>>>>>> 465a1c4242d7ab58c8d17526594310996b6e5410
      "metadata": {
        "colab": {
          "base_uri": "https://localhost:8080/",
          "height": 404
        },
        "id": "AQsRg2DLUFNN",
        "outputId": "ec405828-e2a2-4b47-86ee-a83ae15b31b3"
      },
      "outputs": [
        {
          "data": {
            "image/png": "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",
            "text/plain": [
              "<Figure size 864x432 with 2 Axes>"
            ]
          },
          "metadata": {
            "needs_background": "light"
          },
          "output_type": "display_data"
        }
      ],
      "source": [
        "import numpy as np\n",
        "import matplotlib.pyplot as plt\n",
        "\n",
        "n = 4\n",
        "model_names = ['UltraGCN\\n(\\u03BB=0,\\u03B3=0)', 'UltraGCN\\n(\\u03B3=0)', 'UltraGCN\\n(\\u03BB=0)', 'UltraGCN']\n",
        "recall_results = [0.04918000384021738, 0.050109096677435815, 0.050109096677435815, recall_reprod]\n",
        "ndcg_results = [0.030738173917234976, 0.031403093994895125, 0.031403093994895125, ndcg_reprod]\n",
        "\n",
        "plt_, ax = plt.subplots(1, 2, figsize=(12,6))\n",
        "ax[0].bar(range(n), recall_results, width=0.9, tick_label=model_names)\n",
        "ax[0].set_xticks(range(n))\n",
        "ax[0].set_yticks(np.arange(0.02, 0.08, 0.01))\n",
        "ax[0].set_xlabel('model')\n",
        "ax[0].set_ylabel('Recall@20')\n",
        "\n",
        "ax[1].bar(range(n), ndcg_results, width=0.9, color='orange', tick_label=model_names)\n",
        "ax[1].set_xticks(range(n))\n",
        "ax[1].set_yticks(np.arange(0.02, 0.07, 0.01))\n",
        "ax[1].set_xlabel('model')\n",
        "ax[1].set_ylabel('NDCG@20')\n",
        "\n",
        "plt.show()"
      ]
    },
    {
      "cell_type": "code",
<<<<<<< HEAD
      "execution_count": 33,
=======
      "execution_count": 26,
>>>>>>> 465a1c4242d7ab58c8d17526594310996b6e5410
      "metadata": {},
      "outputs": [
        {
          "data": {
            "image/png": "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",
            "text/plain": [
              "<Figure size 864x432 with 2 Axes>"
            ]
          },
          "metadata": {
            "needs_background": "light"
          },
          "output_type": "display_data"
        }
      ],
      "source": [
        "recall_paper = [0.0347, 0.0505, 0.0472, 0.0681]\n",
        "ndcg_paper = [0.0270, 0.0393, 0.0365, 0.0557]\n",
        "\n",
        "rec_diff = (np.array(recall_results) - np.array(recall_paper)) / np.array(recall_paper)\n",
        "ndcg_diff = (np.array(ndcg_results) - np.array(ndcg_paper)) / np.array(ndcg_paper)\n",
        "\n",
        "plt_, ax = plt.subplots(1, 2, figsize=(12,6))\n",
        "ax[0].bar(range(n), rec_diff, width=0.9, tick_label=model_names, color=list(map(lambda x: 'g' if x > 0 else 'r', rec_diff)))\n",
        "ax[0].set_xticks(range(n))\n",
        "ax[0].set_yticks(np.arange(-0.4, 0.5, 0.1))\n",
        "ax[0].set_xlabel('model')\n",
        "ax[0].set_ylabel('rel. deviation of Recall@20')\n",
        "\n",
        "ax[1].bar(range(n), ndcg_diff, width=0.9, tick_label=model_names, color=list(map(lambda x: 'g' if x > 0 else 'r', ndcg_diff)))\n",
        "ax[1].set_xticks(range(n))\n",
        "ax[1].set_yticks(np.arange(-0.4, 0.5, 0.1))\n",
        "ax[1].set_xlabel('model')\n",
        "ax[1].set_ylabel('rel. deviation of NDCG@20')\n",
        "\n",
        "plt.show()"
      ]
    },
    {
      "cell_type": "code",
<<<<<<< HEAD
      "execution_count": 36,
=======
      "execution_count": 27,
>>>>>>> 465a1c4242d7ab58c8d17526594310996b6e5410
      "metadata": {},
      "outputs": [],
      "source": [
        "from scipy.stats import wilcoxon, median_test, mannwhitneyu\n",
        "\n",
        "def sig_test(title, reprod, paper):\n",
        "    diff = np.array(reprod) - np.array(paper)\n",
        "    #stat = wilcoxon(diff)               # test median\n",
        "    #stat = median_test(reprod, paper)   # test median\n",
        "    stat = mannwhitneyu(reprod, paper)   # test distribution\n",
        "    print(f\"Testing '{title}' with significance level 5% for H0: no significant difference in the distributions of reproduced and paper\")\n",
<<<<<<< HEAD
        "    print(f\"\\t{'reject' if stat.pvalue < 0.05 else 'accept'} null-hypothesis (p-value = {round(stat.pvalue, 3)})\")\n",
=======
        "    print(f\"\\t{'reject' if stat.pvalue < 0.05 else 'accept'} null-hypothesis\")\n",
>>>>>>> 465a1c4242d7ab58c8d17526594310996b6e5410
        "    print()\n",
        "    return stat"
      ]
    },
    {
      "cell_type": "code",
<<<<<<< HEAD
      "execution_count": 37,
=======
      "execution_count": 28,
>>>>>>> 465a1c4242d7ab58c8d17526594310996b6e5410
      "metadata": {},
      "outputs": [
        {
          "name": "stdout",
          "output_type": "stream",
          "text": [
            "Testing 'recall' with significance level 5% for H0: no significant difference in the distributions of reproduced and paper\n",
<<<<<<< HEAD
            "\taccept null-hypothesis (p-value = 0.885)\n",
            "\n",
            "Testing 'NDCG' with significance level 5% for H0: no significant difference in the distributions of reproduced and paper\n",
            "\taccept null-hypothesis (p-value = 0.468)\n",
=======
            "\taccept null-hypothesis\n",
            "\n",
            "Testing 'NDCG' with significance level 5% for H0: no significant difference in the distributions of reproduced and paper\n",
            "\taccept null-hypothesis\n",
>>>>>>> 465a1c4242d7ab58c8d17526594310996b6e5410
            "\n"
          ]
        }
      ],
      "source": [
        "# testing for H0 = no significant difference between reproduced and paper\n",
        "_ = sig_test('recall', recall_results, recall_paper)\n",
        "_ = sig_test('NDCG', ndcg_results, ndcg_paper)"
      ]
    },
    {
      "cell_type": "markdown",
      "metadata": {
        "id": "pwnGr_65MiRx"
      },
      "source": [
        "## Parameter Influence\n",
        "\n",
        "Appying different parameter settings. \n",
        "\n",
        "for K = [5, 10, 20, 50]"
      ]
    },
    {
      "cell_type": "code",
      "execution_count": null,
      "metadata": {
        "colab": {
          "base_uri": "https://localhost:8080/"
        },
        "id": "Z34o-vMTMzLr",
        "outputId": "31c575f2-c116-4ebc-a0db-ccf865533471"
      },
      "outputs": [
        {
          "name": "stdout",
          "output_type": "stream",
          "text": [
            "###################### UltraGCN ######################\n",
            "1. Loading Configuration...\n"
          ]
        },
        {
          "name": "stderr",
          "output_type": "stream",
          "text": [
            "/usr/local/lib/python3.8/dist-packages/torch/utils/data/dataloader.py:554: UserWarning: This DataLoader will create 5 worker processes in total. Our suggested max number of worker in current system is 2, which is smaller than what this DataLoader is going to create. Please be aware that excessive worker creation might get DataLoader running slow or even freeze, lower the worker number to avoid potential slowness/freeze if necessary.\n",
            "  warnings.warn(_create_warning_msg(\n"
          ]
        },
        {
          "name": "stdout",
          "output_type": "stream",
          "text": [
            "load path = ./amazon_sampled_ii_constraint_mat_5 object\n",
            "load path = ./amazon_sampled_ii_neighbor_mat_5 object\n",
            "Load Configuration OK, show them below\n",
            "Configuration:\n",
            "{'embedding_dim': 64, 'ii_neighbor_num': 5, 'model_save_path': './ultragcn_amazon_sampled.pt', 'max_epoch': 2000, 'enable_tensorboard': True, 'initial_weight': 0.0001, 'dataset': 'amazon_sampled', 'train_file_path': './data/amazon_sampled/train.txt', 'gpu': '0', 'learning_rate': 0.001, 'batch_size': 1024, 'early_stop_epoch': 15, 'w1': 1e-08, 'w2': 1.0, 'w3': 1.0, 'w4': 1e-08, 'negative_num': 500, 'negative_weight': 500.0, 'gamma': 0.0001, 'lambda': 2.75, 'sampling_sift_pos': False, 'test_batch_size': 2048, 'topk': 20, 'test_file_path': './data/amazon_sampled/test.txt', 'device': device(type='cuda', index=0), 'user_num': 21057, 'item_num': 36640}\n",
            "Total training batches = 493\n"
          ]
        },
        {
          "name": "stderr",
          "output_type": "stream",
          "text": [
            "/usr/local/lib/python3.8/dist-packages/torch/utils/data/dataloader.py:554: UserWarning: This DataLoader will create 5 worker processes in total. Our suggested max number of worker in current system is 2, which is smaller than what this DataLoader is going to create. Please be aware that excessive worker creation might get DataLoader running slow or even freeze, lower the worker number to avoid potential slowness/freeze if necessary.\n",
            "  warnings.warn(_create_warning_msg(\n"
          ]
        },
        {
          "name": "stdout",
          "output_type": "stream",
          "text": [
            "##########################################\n",
            "Early stop is triggered at 79 epochs.\n",
            "Results:\n",
            "best epoch = 64, best recall = 0.05807551680906002, best ndcg = 0.03806443018640664\n",
            "The best model is saved at ./ultragcn_amazon_sampled.pt\n",
            "Training end!\n",
            "END\n"
          ]
        }
      ],
      "source": [
        "custom_params = {\n",
        "    'ii_neighbor_num': 5 \n",
        "}\n",
        "main.run('amazon_sampled_config.ini', custom_params, report_progress=False)"
      ]
    },
    {
      "cell_type": "code",
      "execution_count": null,
      "metadata": {
        "colab": {
          "base_uri": "https://localhost:8080/"
        },
        "id": "s_YkC6G4M91d",
        "outputId": "9311a9dd-f8e3-46e5-bd79-20e61212f379"
      },
      "outputs": [
        {
          "name": "stdout",
          "output_type": "stream",
          "text": [
            "###################### UltraGCN ######################\n",
            "1. Loading Configuration...\n"
          ]
        },
        {
          "name": "stderr",
          "output_type": "stream",
          "text": [
            "/usr/local/lib/python3.8/dist-packages/torch/utils/data/dataloader.py:554: UserWarning: This DataLoader will create 5 worker processes in total. Our suggested max number of worker in current system is 2, which is smaller than what this DataLoader is going to create. Please be aware that excessive worker creation might get DataLoader running slow or even freeze, lower the worker number to avoid potential slowness/freeze if necessary.\n",
            "  warnings.warn(_create_warning_msg(\n"
          ]
        },
        {
          "name": "stdout",
          "output_type": "stream",
          "text": [
            "Computing \\Omega for the item-item graph... \n"
          ]
        },
        {
          "name": "stderr",
          "output_type": "stream",
          "text": [
            "/content/ExpDesign_WS22/UltraGCN/main_custom_parameters.py:95: RuntimeWarning: divide by zero encountered in true_divide\n",
            "  beta_uD = (np.sqrt(users_D + 1) / users_D).reshape(-1, 1)\n"
          ]
        },
        {
          "name": "stdout",
          "output_type": "stream",
          "text": [
            "i-i constraint matrix 0 ok\n",
            "i-i constraint matrix 15000 ok\n",
            "i-i constraint matrix 30000 ok\n",
            "Computation \\Omega OK!\n",
            "store object in path = ./amazon_sampled_ii_neighbor_mat_10 ok\n",
            "store object in path = ./amazon_sampled_ii_constraint_mat_10 ok\n",
            "Load Configuration OK, show them below\n",
            "Configuration:\n",
            "{'embedding_dim': 64, 'ii_neighbor_num': 10, 'model_save_path': './ultragcn_amazon_sampled.pt', 'max_epoch': 2000, 'enable_tensorboard': True, 'initial_weight': 0.0001, 'dataset': 'amazon_sampled', 'train_file_path': './data/amazon_sampled/train.txt', 'gpu': '0', 'learning_rate': 0.001, 'batch_size': 1024, 'early_stop_epoch': 15, 'w1': 1e-08, 'w2': 1.0, 'w3': 1.0, 'w4': 1e-08, 'negative_num': 500, 'negative_weight': 500.0, 'gamma': 0.0001, 'lambda': 2.75, 'sampling_sift_pos': False, 'test_batch_size': 2048, 'topk': 20, 'test_file_path': './data/amazon_sampled/test.txt', 'device': device(type='cuda', index=0), 'user_num': 21057, 'item_num': 36640}\n",
            "Total training batches = 493\n"
          ]
        },
        {
          "name": "stderr",
          "output_type": "stream",
          "text": [
            "/usr/local/lib/python3.8/dist-packages/torch/utils/data/dataloader.py:554: UserWarning: This DataLoader will create 5 worker processes in total. Our suggested max number of worker in current system is 2, which is smaller than what this DataLoader is going to create. Please be aware that excessive worker creation might get DataLoader running slow or even freeze, lower the worker number to avoid potential slowness/freeze if necessary.\n",
            "  warnings.warn(_create_warning_msg(\n"
          ]
        },
        {
          "name": "stdout",
          "output_type": "stream",
          "text": [
            "##########################################\n",
            "Early stop is triggered at 74 epochs.\n",
            "Results:\n",
            "best epoch = 59, best recall = 0.057174523579523136, best ndcg = 0.03700182771757004\n",
            "The best model is saved at ./ultragcn_amazon_sampled.pt\n",
            "Training end!\n",
            "END\n"
          ]
        }
      ],
      "source": [
        "custom_params = {\n",
        "    'ii_neighbor_num': 10 \n",
        "}\n",
        "main.run('amazon_sampled_config.ini', custom_params, report_progress=False)"
      ]
    },
    {
      "cell_type": "code",
      "execution_count": null,
      "metadata": {
        "colab": {
          "base_uri": "https://localhost:8080/"
        },
        "id": "Psqs6YpQNF-6",
        "outputId": "30fa3a0e-ccd8-4994-9c20-e3c7d21d6336"
      },
      "outputs": [
        {
          "name": "stdout",
          "output_type": "stream",
          "text": [
            "###################### UltraGCN ######################\n",
            "1. Loading Configuration...\n"
          ]
        },
        {
          "name": "stderr",
          "output_type": "stream",
          "text": [
            "/usr/local/lib/python3.8/dist-packages/torch/utils/data/dataloader.py:554: UserWarning: This DataLoader will create 5 worker processes in total. Our suggested max number of worker in current system is 2, which is smaller than what this DataLoader is going to create. Please be aware that excessive worker creation might get DataLoader running slow or even freeze, lower the worker number to avoid potential slowness/freeze if necessary.\n",
            "  warnings.warn(_create_warning_msg(\n"
          ]
        },
        {
          "name": "stdout",
          "output_type": "stream",
          "text": [
            "load path = ./amazon_sampled_ii_constraint_mat_20 object\n",
            "load path = ./amazon_sampled_ii_neighbor_mat_20 object\n",
            "Load Configuration OK, show them below\n",
            "Configuration:\n",
            "{'embedding_dim': 64, 'ii_neighbor_num': 20, 'model_save_path': './ultragcn_amazon_sampled.pt', 'max_epoch': 2000, 'enable_tensorboard': True, 'initial_weight': 0.0001, 'dataset': 'amazon_sampled', 'train_file_path': './data/amazon_sampled/train.txt', 'gpu': '0', 'learning_rate': 0.001, 'batch_size': 1024, 'early_stop_epoch': 15, 'w1': 1e-08, 'w2': 1.0, 'w3': 1.0, 'w4': 1e-08, 'negative_num': 500, 'negative_weight': 500.0, 'gamma': 0.0001, 'lambda': 2.75, 'sampling_sift_pos': False, 'test_batch_size': 2048, 'topk': 20, 'test_file_path': './data/amazon_sampled/test.txt', 'device': device(type='cuda', index=0), 'user_num': 21057, 'item_num': 36640}\n",
            "Total training batches = 493\n"
          ]
        },
        {
          "name": "stderr",
          "output_type": "stream",
          "text": [
            "/usr/local/lib/python3.8/dist-packages/torch/utils/data/dataloader.py:554: UserWarning: This DataLoader will create 5 worker processes in total. Our suggested max number of worker in current system is 2, which is smaller than what this DataLoader is going to create. Please be aware that excessive worker creation might get DataLoader running slow or even freeze, lower the worker number to avoid potential slowness/freeze if necessary.\n",
            "  warnings.warn(_create_warning_msg(\n"
          ]
        },
        {
          "name": "stdout",
          "output_type": "stream",
          "text": [
            "##########################################\n",
            "Early stop is triggered at 89 epochs.\n",
            "Results:\n",
            "best epoch = 74, best recall = 0.057013581068301185, best ndcg = 0.03711069489658892\n",
            "The best model is saved at ./ultragcn_amazon_sampled.pt\n",
            "Training end!\n",
            "END\n"
          ]
        }
      ],
      "source": [
        "custom_params = {\n",
        "    'ii_neighbor_num': 20 \n",
        "}\n",
        "main.run('amazon_sampled_config.ini', custom_params, report_progress=False)"
      ]
    },
    {
      "cell_type": "code",
      "execution_count": 4,
      "metadata": {
        "colab": {
          "base_uri": "https://localhost:8080/"
        },
        "id": "3NdwNgkSNH-5",
        "outputId": "6b1a03be-c870-41f1-9c85-91b6794f9682"
      },
      "outputs": [
        {
          "name": "stdout",
          "output_type": "stream",
          "text": [
            "###################### UltraGCN ######################\n",
            "1. Loading Configuration...\n"
          ]
        },
        {
          "name": "stderr",
          "output_type": "stream",
          "text": [
            "/usr/local/lib/python3.8/dist-packages/torch/utils/data/dataloader.py:554: UserWarning: This DataLoader will create 5 worker processes in total. Our suggested max number of worker in current system is 2, which is smaller than what this DataLoader is going to create. Please be aware that excessive worker creation might get DataLoader running slow or even freeze, lower the worker number to avoid potential slowness/freeze if necessary.\n",
            "  warnings.warn(_create_warning_msg(\n"
          ]
        },
        {
          "name": "stdout",
          "output_type": "stream",
          "text": [
            "load path = ./amazon_sampled_ii_constraint_mat_50 object\n",
            "load path = ./amazon_sampled_ii_neighbor_mat_50 object\n",
            "Load Configuration OK, show them below\n",
            "Configuration:\n",
            "{'embedding_dim': 64, 'ii_neighbor_num': 50, 'model_save_path': './ultragcn_amazon_sampled.pt', 'max_epoch': 2000, 'enable_tensorboard': True, 'initial_weight': 0.0001, 'dataset': 'amazon_sampled', 'train_file_path': './data/amazon_sampled/train.txt', 'gpu': '0', 'learning_rate': 0.001, 'batch_size': 1024, 'early_stop_epoch': 15, 'w1': 1e-08, 'w2': 1.0, 'w3': 1.0, 'w4': 1e-08, 'negative_num': 500, 'negative_weight': 500.0, 'gamma': 0.0001, 'lambda': 2.75, 'sampling_sift_pos': False, 'test_batch_size': 2048, 'topk': 20, 'test_file_path': './data/amazon_sampled/test.txt', 'device': device(type='cuda', index=0), 'user_num': 21057, 'item_num': 36640}\n",
            "Total training batches = 493\n"
          ]
        },
        {
          "name": "stderr",
          "output_type": "stream",
          "text": [
            "/usr/local/lib/python3.8/dist-packages/torch/utils/data/dataloader.py:554: UserWarning: This DataLoader will create 5 worker processes in total. Our suggested max number of worker in current system is 2, which is smaller than what this DataLoader is going to create. Please be aware that excessive worker creation might get DataLoader running slow or even freeze, lower the worker number to avoid potential slowness/freeze if necessary.\n",
            "  warnings.warn(_create_warning_msg(\n"
          ]
        },
        {
          "name": "stdout",
          "output_type": "stream",
          "text": [
            "##########################################\n",
            "Early stop is triggered at 81 epochs.\n",
            "Results:\n",
            "best epoch = 66, best recall = 0.055200401269675084, best ndcg = 0.036106530659083765\n",
            "The best model is saved at ./ultragcn_amazon_sampled.pt\n",
            "Training end!\n",
            "END\n"
          ]
        }
      ],
      "source": [
        "custom_params = {\n",
        "    'ii_neighbor_num': 50 \n",
        "}\n",
        "main.run('amazon_sampled_config.ini', custom_params, report_progress=False)"
      ]
    },
    {
      "cell_type": "code",
<<<<<<< HEAD
      "execution_count": 38,
=======
      "execution_count": 29,
>>>>>>> 465a1c4242d7ab58c8d17526594310996b6e5410
      "metadata": {
        "colab": {
          "base_uri": "https://localhost:8080/",
          "height": 388
        },
        "id": "97VMi9kqNJIv",
        "outputId": "2b7039e1-2bf4-41e7-8d99-d9a4659f02cb"
      },
      "outputs": [
        {
          "data": {
            "image/png": "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",
            "text/plain": [
              "<Figure size 432x432 with 1 Axes>"
            ]
          },
          "metadata": {
            "needs_background": "light"
          },
          "output_type": "display_data"
        }
      ],
      "source": [
        "import numpy as np\n",
        "import matplotlib.pyplot as plt\n",
        "import matplotlib\n",
        "\n",
        "n = 4\n",
        "k= [5, 10, 20, 50]\n",
        "recall_results = [0.058, 0.057, 0.057, 0.055]\n",
        "ndcg_results = [0.038, 0.037, 0.037, 0.036]\n",
        "\n",
        "plt_, ax = plt.subplots(1, 1, figsize=(6,6))\n",
        "ax.plot(k, recall_results, marker='D')\n",
        "ax.set_ylim(min(recall_results + ndcg_results)*0.9, max(recall_results + ndcg_results)*1.1)\n",
        "ax.set_xscale('log')\n",
        "ax.set_xticks(k)\n",
        "ax.get_xaxis().set_major_formatter(matplotlib.ticker.ScalarFormatter())\n",
        "ax.minorticks_off()\n",
        "ax.set_xlabel('K')\n",
        "ax.set_ylabel('Recall@20')\n",
        "ax.plot(k, ndcg_results, color = 'orange', marker='D')\n",
        "ax.legend(['Recall', 'NDCG'])\n",
        "\n",
        "plt.show()"
      ]
    },
    {
      "cell_type": "code",
<<<<<<< HEAD
      "execution_count": 39,
=======
      "execution_count": 30,
>>>>>>> 465a1c4242d7ab58c8d17526594310996b6e5410
      "metadata": {},
      "outputs": [
        {
          "data": {
            "image/png": "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",
            "text/plain": [
              "<Figure size 864x432 with 2 Axes>"
            ]
          },
          "metadata": {
            "needs_background": "light"
          },
          "output_type": "display_data"
        }
      ],
      "source": [
        "recall_paper = [0.0643, 0.0681, 0.0663, 0.0611]\n",
        "ndcg_paper = [0.0534, 0.0556, 0.0539, 0.0496]\n",
        "\n",
        "rec_diff = (np.array(recall_results) - np.array(recall_paper)) / np.array(recall_paper)\n",
        "ndcg_diff = (np.array(ndcg_results) - np.array(ndcg_paper)) / np.array(ndcg_paper)\n",
        "\n",
        "plt_, ax = plt.subplots(1, 2, figsize=(12,6))\n",
        "ax[0].bar(range(n), rec_diff, width=0.9, tick_label=model_names, color=list(map(lambda x: 'g' if x > 0 else 'r', rec_diff)))\n",
        "ax[0].set_xticks(range(n))\n",
        "ax[0].set_yticks(np.arange(-0.4, 0.5, 0.1))\n",
        "ax[0].set_xlabel('model')\n",
        "ax[0].set_ylabel('rel. deviation of Recall@20')\n",
        "\n",
        "ax[1].bar(range(n), ndcg_diff, width=0.9, tick_label=model_names, color=list(map(lambda x: 'g' if x > 0 else 'r', ndcg_diff)))\n",
        "ax[1].set_xticks(range(n))\n",
        "ax[1].set_yticks(np.arange(-0.4, 0.5, 0.1))\n",
        "ax[1].set_xlabel('model')\n",
        "ax[1].set_ylabel('rel. deviation of NDCG@20')\n",
        "\n",
        "plt.show()"
      ]
    },
    {
      "cell_type": "code",
<<<<<<< HEAD
      "execution_count": 40,
=======
      "execution_count": 31,
>>>>>>> 465a1c4242d7ab58c8d17526594310996b6e5410
      "metadata": {},
      "outputs": [
        {
          "name": "stdout",
          "output_type": "stream",
          "text": [
            "Testing 'recall' with significance level 5% for H0: no significant difference in the distributions of reproduced and paper\n",
<<<<<<< HEAD
            "\treject null-hypothesis (p-value = 0.029)\n",
            "\n",
            "Testing 'NDCG' with significance level 5% for H0: no significant difference in the distributions of reproduced and paper\n",
            "\treject null-hypothesis (p-value = 0.029)\n",
=======
            "\treject null-hypothesis\n",
            "\n",
            "Testing 'NDCG' with significance level 5% for H0: no significant difference in the distributions of reproduced and paper\n",
            "\treject null-hypothesis\n",
>>>>>>> 465a1c4242d7ab58c8d17526594310996b6e5410
            "\n"
          ]
        }
      ],
      "source": [
        "# testing for H0 = no significant difference between reproduced and paper\n",
        "_ = sig_test('recall', recall_results, recall_paper)\n",
        "_ = sig_test('NDCG', ndcg_results, ndcg_paper)"
      ]
    }
  ],
  "metadata": {
    "accelerator": "GPU",
    "colab": {
      "provenance": []
    },
    "gpuClass": "standard",
    "kernelspec": {
      "display_name": "Python 3",
      "language": "python",
      "name": "python3"
    },
    "language_info": {
      "codemirror_mode": {
        "name": "ipython",
        "version": 3
      },
      "file_extension": ".py",
      "mimetype": "text/x-python",
      "name": "python",
      "nbconvert_exporter": "python",
      "pygments_lexer": "ipython3",
      "version": "3.10.4"
    },
    "vscode": {
      "interpreter": {
        "hash": "c9f5fc863bfeb52628e16391e02b82346ddba486f3a90a174bf61c42516759ec"
      }
    }
  },
  "nbformat": 4,
  "nbformat_minor": 0
}
