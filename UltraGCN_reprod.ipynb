{
  "cells": [
    {
      "cell_type": "markdown",
      "metadata": {
        "id": "E5eNm0wP9h_e"
      },
      "source": [
        "# Experiment Design Exercise 2\n",
        "Hartmann, Fabian  \n",
        "01015083 Hepp, Sebastian  \n",
        "Mayr, Yifan  \n",
        "11810738 Moik, Matthias"
      ]
    },
    {
      "cell_type": "markdown",
      "metadata": {
        "id": "PIuiLR6A9h_g"
      },
      "source": [
        "## Set up"
      ]
    },
    {
      "cell_type": "code",
      "source": [
        "!git clone https://github.com/e11824496/ExpDesign_WS22.git"
      ],
      "metadata": {
        "colab": {
          "base_uri": "https://localhost:8080/"
        },
        "id": "8nIXEQPY9qdh",
        "outputId": "556a1950-fb6d-44dd-ffbe-740cb31567ef"
      },
      "execution_count": 2,
      "outputs": [
        {
          "output_type": "stream",
          "name": "stdout",
          "text": [
            "Cloning into 'ExpDesign_WS22'...\n",
            "remote: Enumerating objects: 117, done.\u001b[K\n",
            "remote: Counting objects: 100% (67/67), done.\u001b[K\n",
            "remote: Compressing objects: 100% (50/50), done.\u001b[K\n",
            "remote: Total 117 (delta 36), reused 44 (delta 16), pack-reused 50\u001b[K\n",
            "Receiving objects: 100% (117/117), 44.13 MiB | 24.98 MiB/s, done.\n",
            "Resolving deltas: 100% (42/42), done.\n"
          ]
        }
      ]
    },
    {
      "cell_type": "code",
      "execution_count": 3,
      "metadata": {
        "colab": {
          "base_uri": "https://localhost:8080/"
        },
        "id": "tuiXu1ka0pn1",
        "outputId": "8f8c3e97-9d89-4476-866a-000d9b1efb5f"
      },
      "outputs": [
        {
          "output_type": "stream",
          "name": "stdout",
          "text": [
            "/content/ExpDesign_WS22/UltraGCN\n"
          ]
        }
      ],
      "source": [
        "%cd ExpDesign_WS22/UltraGCN/"
      ]
    },
    {
      "cell_type": "code",
      "execution_count": 4,
      "metadata": {
        "id": "0trlZd1U9h_k"
      },
      "outputs": [],
      "source": [
        "import numpy as np\n",
        "\n",
        "def print_eval(recall_reprod, ndcg_reprod, recall_paper, ndcg_paper, n_epochs_paper, n_epochs_reprod):\n",
        "    recall_reprod_off_by = (recall_reprod - recall_paper) / recall_paper\n",
        "    ndcg_reprod_off_by = (ndcg_reprod - ndcg_paper) / ndcg_paper\n",
        "    diff_epochs = n_epochs_paper - n_epochs_reprod\n",
        "\n",
        "    print(f\"reproduced recall off by {round(recall_reprod_off_by * 100, 2)}%\")\n",
        "    print(f\"reproduced NDCG off by {round(ndcg_reprod_off_by * 100, 2)}%\")\n",
        "    print()\n",
        "    print(f\"difference in epochs needed when reproducing: {diff_epochs} epochs or {round((diff_epochs) / n_epochs_reprod * 100, 2)}%\")\n",
        "\n",
        "\n",
        "#92000 items, 52000 users\n",
        "def sample_amazon_set(user_cutoff, item_cutoff, seed = 42):\n",
        "    train_file = open(\"data/amazon/train.txt\",\"r+\")\n",
        "    train_data = train_file.readlines()\n",
        "    test_file = open(\"data/amazon/test.txt\",\"r+\")\n",
        "    test_data = test_file.readlines()\n",
        "    item_list = open(\"data/amazon/item_list.txt\",\"r+\")\n",
        "    n_items = len(item_list.readlines())-1\n",
        "\n",
        "    np.random.seed(seed)\n",
        "    sampled_items = {k: i for i, k in enumerate(np.random.choice(np.arange(n_items), item_cutoff, replace = False))}\n",
        "\n",
        "    train_file_out = open(\"data/amazon_sampled/train.txt\", \"w\")\n",
        "    test_file_out = open(\"data/amazon_sampled/test.txt\", \"w\")\n",
        "\n",
        "\n",
        "    current_line = 0\n",
        "    current_user_id = 0\n",
        "    while current_user_id < user_cutoff and current_line < len(train_data):\n",
        "        line = train_data[current_line]\n",
        "        current_user_items_train = [int(x) for x in line.split()[1:]]\n",
        "        current_user_items_train_filterd = [sampled_items[x] for x in current_user_items_train if x in sampled_items]\n",
        "        \n",
        "        line = test_data[current_line]\n",
        "        current_user_items_test = [int(x) for x in line.split()[1:]]\n",
        "        current_user_items_test_filterd = [sampled_items[x] for x in current_user_items_test if x in sampled_items]\n",
        "\n",
        "        if len(current_user_items_train_filterd) < 5 or len(current_user_items_test_filterd) < 2: \n",
        "            current_line += 1\n",
        "            continue\n",
        "        else:\n",
        "            train_file_out.write(\" \".join(map(str,[current_user_id] + current_user_items_train_filterd)) + '\\n')\n",
        "            test_file_out.write(\" \".join(map(str,[current_user_id] + current_user_items_test_filterd)) + '\\n')\n",
        "            current_user_id += 1\n",
        "            current_line += 1\n",
        "\n",
        "    print(f'Number of users: {current_user_id}')\n",
        "  \n",
        "    "
      ]
    },
    {
      "cell_type": "markdown",
      "metadata": {
        "id": "Dggt1PHZ9h_n"
      },
      "source": [
        "## Reproducing ML-1M results"
      ]
    },
    {
      "cell_type": "code",
      "source": [
        "import main_custom_parameters as main"
      ],
      "metadata": {
        "id": "nKkx5KVB57v-"
      },
      "execution_count": 9,
      "outputs": []
    },
    {
      "cell_type": "code",
      "execution_count": null,
      "metadata": {
        "colab": {
          "base_uri": "https://localhost:8080/"
        },
        "id": "YxRKrxBq0ty1",
        "outputId": "3ebcf73e-5dbc-4ff5-ff12-b65876efe5d5"
      },
      "outputs": [
        {
          "output_type": "stream",
          "name": "stdout",
          "text": [
            "###################### UltraGCN ######################\n",
            "1. Loading Configuration...\n"
          ]
        },
        {
          "output_type": "stream",
          "name": "stderr",
          "text": [
            "/usr/local/lib/python3.8/dist-packages/torch/utils/data/dataloader.py:554: UserWarning: This DataLoader will create 5 worker processes in total. Our suggested max number of worker in current system is 2, which is smaller than what this DataLoader is going to create. Please be aware that excessive worker creation might get DataLoader running slow or even freeze, lower the worker number to avoid potential slowness/freeze if necessary.\n",
            "  warnings.warn(_create_warning_msg(\n"
          ]
        },
        {
          "output_type": "stream",
          "name": "stdout",
          "text": [
            "Computing \\Omega for the item-item graph... \n",
            "i-i constraint matrix 0 ok\n",
            "Computation \\Omega OK!\n",
            "store object in path = ./ml-1m_ii_neighbor_mat_10 ok\n",
            "store object in path = ./ml-1m_ii_constraint_mat_10 ok\n",
            "Load Configuration OK, show them below\n",
            "Configuration:\n",
            "{'embedding_dim': 128, 'ii_neighbor_num': 10, 'model_save_path': './ultragcn_ml-1m.pt', 'max_epoch': 2000, 'enable_tensorboard': True, 'initial_weight': 0.001, 'dataset': 'ml-1m', 'train_file_path': './data/ml-1m/train.txt', 'gpu': '0', 'learning_rate': 0.001, 'batch_size': 1024, 'early_stop_epoch': 50, 'w1': 1e-07, 'w2': 1.0, 'w3': 1e-07, 'w4': 1.0, 'negative_num': 200, 'negative_weight': 200.0, 'gamma': 0.0001, 'lambda': 0.001, 'sampling_sift_pos': False, 'test_batch_size': 2048, 'topk': 20, 'test_file_path': './data/ml-1m/test.txt', 'device': device(type='cuda', index=0), 'user_num': 6022, 'item_num': 3043}\n",
            "Total training batches = 778\n"
          ]
        },
        {
          "output_type": "stream",
          "name": "stderr",
          "text": [
            "/usr/local/lib/python3.8/dist-packages/torch/utils/data/dataloader.py:554: UserWarning: This DataLoader will create 5 worker processes in total. Our suggested max number of worker in current system is 2, which is smaller than what this DataLoader is going to create. Please be aware that excessive worker creation might get DataLoader running slow or even freeze, lower the worker number to avoid potential slowness/freeze if necessary.\n",
            "  warnings.warn(_create_warning_msg(\n"
          ]
        },
        {
          "output_type": "stream",
          "name": "stdout",
          "text": [
            "The time for epoch 0 is: train time = 00: 00: 10, test time = 00: 00: 01\n",
            "Loss = 21.25471, F1-score: 0.091753 \t Precision: 0.07649\t Recall: 0.11464\tNDCG: 0.11558\n",
            "The time for epoch 5 is: train time = 00: 00: 10, test time = 00: 00: 00\n",
            "Loss = 16.79668, F1-score: 0.090951 \t Precision: 0.07589\t Recall: 0.11347\tNDCG: 0.11486\n",
            "The time for epoch 10 is: train time = 00: 00: 10, test time = 00: 00: 00\n",
            "Loss = 16.97693, F1-score: 0.091365 \t Precision: 0.07588\t Recall: 0.11479\tNDCG: 0.11401\n",
            "The time for epoch 15 is: train time = 00: 00: 10, test time = 00: 00: 00\n",
            "Loss = 17.40684, F1-score: 0.128047 \t Precision: 0.10673\t Recall: 0.16002\tNDCG: 0.16888\n",
            "The time for epoch 20 is: train time = 00: 00: 10, test time = 00: 00: 00\n",
            "Loss = 16.97007, F1-score: 0.159057 \t Precision: 0.12943\t Recall: 0.20627\tNDCG: 0.20744\n",
            "The time for epoch 25 is: train time = 00: 00: 11, test time = 00: 00: 00\n",
            "Loss = 17.08687, F1-score: 0.172493 \t Precision: 0.13814\t Recall: 0.22958\tNDCG: 0.22540\n",
            "The time for epoch 30 is: train time = 00: 00: 10, test time = 00: 00: 00\n",
            "Loss = 16.34563, F1-score: 0.180385 \t Precision: 0.14347\t Recall: 0.24286\tNDCG: 0.23594\n",
            "The time for epoch 35 is: train time = 00: 00: 10, test time = 00: 00: 00\n",
            "Loss = 16.72394, F1-score: 0.186973 \t Precision: 0.14772\t Recall: 0.25464\tNDCG: 0.24451\n",
            "The time for epoch 40 is: train time = 00: 00: 10, test time = 00: 00: 00\n",
            "Loss = 16.27929, F1-score: 0.191247 \t Precision: 0.15079\t Recall: 0.26138\tNDCG: 0.25168\n",
            "The time for epoch 45 is: train time = 00: 00: 10, test time = 00: 00: 00\n",
            "Loss = 16.55980, F1-score: 0.194262 \t Precision: 0.15280\t Recall: 0.26661\tNDCG: 0.25440\n",
            "The time for epoch 50 is: train time = 00: 00: 10, test time = 00: 00: 00\n",
            "Loss = 17.43217, F1-score: 0.196008 \t Precision: 0.15385\t Recall: 0.26998\tNDCG: 0.25811\n",
            "The time for epoch 51 is: train time = 00: 00: 10, test time = 00: 00: 00\n",
            "Loss = 16.81979, F1-score: 0.197347 \t Precision: 0.15482\t Recall: 0.27207\tNDCG: 0.25856\n",
            "The time for epoch 52 is: train time = 00: 00: 10, test time = 00: 00: 00\n",
            "Loss = 17.37509, F1-score: 0.196578 \t Precision: 0.15444\t Recall: 0.27033\tNDCG: 0.25871\n",
            "The time for epoch 53 is: train time = 00: 00: 10, test time = 00: 00: 00\n",
            "Loss = 16.69800, F1-score: 0.196167 \t Precision: 0.15409\t Recall: 0.26984\tNDCG: 0.25794\n",
            "The time for epoch 54 is: train time = 00: 00: 10, test time = 00: 00: 00\n",
            "Loss = 16.77402, F1-score: 0.197051 \t Precision: 0.15468\t Recall: 0.27139\tNDCG: 0.25906\n",
            "The time for epoch 55 is: train time = 00: 00: 10, test time = 00: 00: 00\n",
            "Loss = 16.67754, F1-score: 0.197495 \t Precision: 0.15474\t Recall: 0.27289\tNDCG: 0.25975\n",
            "The time for epoch 56 is: train time = 00: 00: 10, test time = 00: 00: 00\n",
            "Loss = 16.67567, F1-score: 0.197819 \t Precision: 0.15526\t Recall: 0.27253\tNDCG: 0.26033\n",
            "The time for epoch 57 is: train time = 00: 00: 10, test time = 00: 00: 00\n",
            "Loss = 16.36934, F1-score: 0.197702 \t Precision: 0.15488\t Recall: 0.27324\tNDCG: 0.26021\n",
            "The time for epoch 58 is: train time = 00: 00: 10, test time = 00: 00: 00\n",
            "Loss = 17.06416, F1-score: 0.198414 \t Precision: 0.15566\t Recall: 0.27354\tNDCG: 0.26092\n",
            "The time for epoch 59 is: train time = 00: 00: 10, test time = 00: 00: 00\n",
            "Loss = 17.13772, F1-score: 0.198237 \t Precision: 0.15522\t Recall: 0.27423\tNDCG: 0.25996\n",
            "The time for epoch 60 is: train time = 00: 00: 10, test time = 00: 00: 00\n",
            "Loss = 16.94560, F1-score: 0.198965 \t Precision: 0.15575\t Recall: 0.27538\tNDCG: 0.26106\n",
            "The time for epoch 61 is: train time = 00: 00: 10, test time = 00: 00: 00\n",
            "Loss = 16.50524, F1-score: 0.198735 \t Precision: 0.15541\t Recall: 0.27557\tNDCG: 0.26186\n",
            "The time for epoch 62 is: train time = 00: 00: 10, test time = 00: 00: 00\n",
            "Loss = 17.06316, F1-score: 0.199404 \t Precision: 0.15621\t Recall: 0.27561\tNDCG: 0.26232\n",
            "The time for epoch 63 is: train time = 00: 00: 10, test time = 00: 00: 00\n",
            "Loss = 16.88540, F1-score: 0.199129 \t Precision: 0.15599\t Recall: 0.27526\tNDCG: 0.26228\n",
            "The time for epoch 64 is: train time = 00: 00: 10, test time = 00: 00: 00\n",
            "Loss = 17.23295, F1-score: 0.199575 \t Precision: 0.15626\t Recall: 0.27611\tNDCG: 0.26206\n",
            "The time for epoch 65 is: train time = 00: 00: 10, test time = 00: 00: 00\n",
            "Loss = 17.02769, F1-score: 0.199647 \t Precision: 0.15629\t Recall: 0.27628\tNDCG: 0.26305\n",
            "The time for epoch 66 is: train time = 00: 00: 10, test time = 00: 00: 00\n",
            "Loss = 16.58616, F1-score: 0.199265 \t Precision: 0.15629\t Recall: 0.27483\tNDCG: 0.26293\n",
            "The time for epoch 67 is: train time = 00: 00: 10, test time = 00: 00: 00\n",
            "Loss = 17.14417, F1-score: 0.199368 \t Precision: 0.15591\t Recall: 0.27641\tNDCG: 0.26248\n",
            "The time for epoch 68 is: train time = 00: 00: 10, test time = 00: 00: 00\n",
            "Loss = 16.25912, F1-score: 0.199467 \t Precision: 0.15613\t Recall: 0.27611\tNDCG: 0.26223\n",
            "The time for epoch 69 is: train time = 00: 00: 10, test time = 00: 00: 00\n",
            "Loss = 16.24796, F1-score: 0.200065 \t Precision: 0.15664\t Recall: 0.27679\tNDCG: 0.26382\n",
            "The time for epoch 70 is: train time = 00: 00: 10, test time = 00: 00: 00\n",
            "Loss = 16.78832, F1-score: 0.199311 \t Precision: 0.15604\t Recall: 0.27580\tNDCG: 0.26279\n",
            "The time for epoch 71 is: train time = 00: 00: 10, test time = 00: 00: 00\n",
            "Loss = 16.98040, F1-score: 0.200101 \t Precision: 0.15660\t Recall: 0.27706\tNDCG: 0.26336\n",
            "The time for epoch 72 is: train time = 00: 00: 10, test time = 00: 00: 00\n",
            "Loss = 17.65329, F1-score: 0.199492 \t Precision: 0.15600\t Recall: 0.27660\tNDCG: 0.26317\n",
            "The time for epoch 73 is: train time = 00: 00: 10, test time = 00: 00: 00\n",
            "Loss = 17.16081, F1-score: 0.199759 \t Precision: 0.15625\t Recall: 0.27684\tNDCG: 0.26301\n",
            "The time for epoch 74 is: train time = 00: 00: 10, test time = 00: 00: 00\n",
            "Loss = 16.94111, F1-score: 0.199762 \t Precision: 0.15639\t Recall: 0.27641\tNDCG: 0.26264\n",
            "The time for epoch 75 is: train time = 00: 00: 10, test time = 00: 00: 00\n",
            "Loss = 16.68859, F1-score: 0.200150 \t Precision: 0.15653\t Recall: 0.27748\tNDCG: 0.26304\n",
            "The time for epoch 76 is: train time = 00: 00: 10, test time = 00: 00: 00\n",
            "Loss = 16.46973, F1-score: 0.199918 \t Precision: 0.15649\t Recall: 0.27670\tNDCG: 0.26308\n",
            "The time for epoch 77 is: train time = 00: 00: 12, test time = 00: 00: 00\n",
            "Loss = 16.94369, F1-score: 0.200364 \t Precision: 0.15679\t Recall: 0.27747\tNDCG: 0.26304\n",
            "The time for epoch 78 is: train time = 00: 00: 10, test time = 00: 00: 00\n",
            "Loss = 16.40700, F1-score: 0.199470 \t Precision: 0.15591\t Recall: 0.27680\tNDCG: 0.26242\n",
            "The time for epoch 79 is: train time = 00: 00: 10, test time = 00: 00: 00\n",
            "Loss = 17.60538, F1-score: 0.200393 \t Precision: 0.15678\t Recall: 0.27761\tNDCG: 0.26288\n",
            "The time for epoch 80 is: train time = 00: 00: 10, test time = 00: 00: 00\n",
            "Loss = 16.69643, F1-score: 0.199642 \t Precision: 0.15634\t Recall: 0.27613\tNDCG: 0.26389\n",
            "The time for epoch 81 is: train time = 00: 00: 10, test time = 00: 00: 00\n",
            "Loss = 16.68961, F1-score: 0.199727 \t Precision: 0.15610\t Recall: 0.27719\tNDCG: 0.26349\n",
            "The time for epoch 82 is: train time = 00: 00: 10, test time = 00: 00: 00\n",
            "Loss = 17.28046, F1-score: 0.198641 \t Precision: 0.15536\t Recall: 0.27534\tNDCG: 0.26146\n",
            "The time for epoch 83 is: train time = 00: 00: 10, test time = 00: 00: 00\n",
            "Loss = 17.03094, F1-score: 0.199187 \t Precision: 0.15579\t Recall: 0.27611\tNDCG: 0.26229\n",
            "The time for epoch 84 is: train time = 00: 00: 10, test time = 00: 00: 00\n",
            "Loss = 17.37195, F1-score: 0.200006 \t Precision: 0.15654\t Recall: 0.27688\tNDCG: 0.26373\n",
            "The time for epoch 85 is: train time = 00: 00: 10, test time = 00: 00: 00\n",
            "Loss = 16.90942, F1-score: 0.198444 \t Precision: 0.15521\t Recall: 0.27508\tNDCG: 0.26164\n",
            "The time for epoch 86 is: train time = 00: 00: 10, test time = 00: 00: 00\n",
            "Loss = 16.95640, F1-score: 0.199616 \t Precision: 0.15615\t Recall: 0.27661\tNDCG: 0.26275\n",
            "The time for epoch 87 is: train time = 00: 00: 10, test time = 00: 00: 00\n",
            "Loss = 16.60215, F1-score: 0.199807 \t Precision: 0.15658\t Recall: 0.27599\tNDCG: 0.26323\n",
            "The time for epoch 88 is: train time = 00: 00: 10, test time = 00: 00: 00\n",
            "Loss = 16.78141, F1-score: 0.199765 \t Precision: 0.15614\t Recall: 0.27721\tNDCG: 0.26361\n",
            "The time for epoch 89 is: train time = 00: 00: 10, test time = 00: 00: 00\n",
            "Loss = 17.03058, F1-score: 0.198844 \t Precision: 0.15557\t Recall: 0.27546\tNDCG: 0.26164\n",
            "The time for epoch 90 is: train time = 00: 00: 10, test time = 00: 00: 00\n",
            "Loss = 16.23529, F1-score: 0.199239 \t Precision: 0.15595\t Recall: 0.27578\tNDCG: 0.26190\n",
            "The time for epoch 91 is: train time = 00: 00: 10, test time = 00: 00: 00\n",
            "Loss = 16.69723, F1-score: 0.198952 \t Precision: 0.15570\t Recall: 0.27546\tNDCG: 0.26202\n",
            "The time for epoch 92 is: train time = 00: 00: 10, test time = 00: 00: 00\n",
            "Loss = 16.96794, F1-score: 0.199064 \t Precision: 0.15573\t Recall: 0.27581\tNDCG: 0.26239\n",
            "The time for epoch 93 is: train time = 00: 00: 10, test time = 00: 00: 00\n",
            "Loss = 17.44030, F1-score: 0.199257 \t Precision: 0.15600\t Recall: 0.27570\tNDCG: 0.26226\n",
            "The time for epoch 94 is: train time = 00: 00: 10, test time = 00: 00: 00\n",
            "Loss = 16.78732, F1-score: 0.198353 \t Precision: 0.15541\t Recall: 0.27410\tNDCG: 0.26053\n",
            "The time for epoch 95 is: train time = 00: 00: 10, test time = 00: 00: 00\n",
            "Loss = 17.78758, F1-score: 0.198516 \t Precision: 0.15523\t Recall: 0.27527\tNDCG: 0.26160\n",
            "The time for epoch 96 is: train time = 00: 00: 10, test time = 00: 00: 00\n",
            "Loss = 16.81708, F1-score: 0.199653 \t Precision: 0.15627\t Recall: 0.27639\tNDCG: 0.26379\n",
            "The time for epoch 97 is: train time = 00: 00: 10, test time = 00: 00: 00\n",
            "Loss = 16.68157, F1-score: 0.197833 \t Precision: 0.15485\t Recall: 0.27385\tNDCG: 0.26068\n",
            "The time for epoch 98 is: train time = 00: 00: 10, test time = 00: 00: 00\n",
            "Loss = 16.88536, F1-score: 0.198718 \t Precision: 0.15565\t Recall: 0.27473\tNDCG: 0.26173\n",
            "The time for epoch 99 is: train time = 00: 00: 10, test time = 00: 00: 00\n",
            "Loss = 16.87773, F1-score: 0.198682 \t Precision: 0.15558\t Recall: 0.27482\tNDCG: 0.26221\n",
            "The time for epoch 100 is: train time = 00: 00: 10, test time = 00: 00: 00\n",
            "Loss = 16.91182, F1-score: 0.199148 \t Precision: 0.15608\t Recall: 0.27505\tNDCG: 0.26238\n",
            "The time for epoch 101 is: train time = 00: 00: 10, test time = 00: 00: 00\n",
            "Loss = 16.44058, F1-score: 0.198784 \t Precision: 0.15562\t Recall: 0.27508\tNDCG: 0.26195\n",
            "The time for epoch 102 is: train time = 00: 00: 10, test time = 00: 00: 00\n",
            "Loss = 17.24795, F1-score: 0.199414 \t Precision: 0.15613\t Recall: 0.27591\tNDCG: 0.26207\n",
            "The time for epoch 103 is: train time = 00: 00: 10, test time = 00: 00: 00\n",
            "Loss = 17.01192, F1-score: 0.198766 \t Precision: 0.15556\t Recall: 0.27519\tNDCG: 0.26241\n",
            "The time for epoch 104 is: train time = 00: 00: 10, test time = 00: 00: 00\n",
            "Loss = 17.35666, F1-score: 0.198120 \t Precision: 0.15525\t Recall: 0.27370\tNDCG: 0.26112\n",
            "The time for epoch 105 is: train time = 00: 00: 10, test time = 00: 00: 00\n",
            "Loss = 17.27781, F1-score: 0.198386 \t Precision: 0.15518\t Recall: 0.27493\tNDCG: 0.26142\n",
            "The time for epoch 106 is: train time = 00: 00: 10, test time = 00: 00: 00\n",
            "Loss = 17.31026, F1-score: 0.198583 \t Precision: 0.15548\t Recall: 0.27475\tNDCG: 0.26233\n",
            "The time for epoch 107 is: train time = 00: 00: 10, test time = 00: 00: 00\n",
            "Loss = 17.24208, F1-score: 0.198639 \t Precision: 0.15558\t Recall: 0.27466\tNDCG: 0.26212\n",
            "The time for epoch 108 is: train time = 00: 00: 10, test time = 00: 00: 00\n",
            "Loss = 16.74360, F1-score: 0.198363 \t Precision: 0.15524\t Recall: 0.27466\tNDCG: 0.26187\n",
            "The time for epoch 109 is: train time = 00: 00: 10, test time = 00: 00: 00\n",
            "Loss = 16.54774, F1-score: 0.199232 \t Precision: 0.15569\t Recall: 0.27659\tNDCG: 0.26256\n",
            "The time for epoch 110 is: train time = 00: 00: 10, test time = 00: 00: 00\n",
            "Loss = 17.35912, F1-score: 0.198366 \t Precision: 0.15541\t Recall: 0.27415\tNDCG: 0.26176\n",
            "The time for epoch 111 is: train time = 00: 00: 10, test time = 00: 00: 00\n",
            "Loss = 17.32475, F1-score: 0.198638 \t Precision: 0.15550\t Recall: 0.27488\tNDCG: 0.26092\n",
            "The time for epoch 112 is: train time = 00: 00: 10, test time = 00: 00: 00\n",
            "Loss = 16.50459, F1-score: 0.198546 \t Precision: 0.15551\t Recall: 0.27450\tNDCG: 0.26134\n",
            "The time for epoch 113 is: train time = 00: 00: 10, test time = 00: 00: 00\n",
            "Loss = 16.36375, F1-score: 0.198038 \t Precision: 0.15503\t Recall: 0.27407\tNDCG: 0.26025\n",
            "The time for epoch 114 is: train time = 00: 00: 10, test time = 00: 00: 00\n",
            "Loss = 16.81861, F1-score: 0.198853 \t Precision: 0.15556\t Recall: 0.27552\tNDCG: 0.26147\n",
            "The time for epoch 115 is: train time = 00: 00: 10, test time = 00: 00: 00\n",
            "Loss = 16.73046, F1-score: 0.198306 \t Precision: 0.15516\t Recall: 0.27470\tNDCG: 0.26158\n",
            "The time for epoch 116 is: train time = 00: 00: 10, test time = 00: 00: 00\n",
            "Loss = 16.92220, F1-score: 0.198581 \t Precision: 0.15548\t Recall: 0.27474\tNDCG: 0.26006\n",
            "The time for epoch 117 is: train time = 00: 00: 10, test time = 00: 00: 00\n",
            "Loss = 17.24695, F1-score: 0.198228 \t Precision: 0.15489\t Recall: 0.27524\tNDCG: 0.26012\n",
            "The time for epoch 118 is: train time = 00: 00: 10, test time = 00: 00: 00\n",
            "Loss = 17.33641, F1-score: 0.197812 \t Precision: 0.15486\t Recall: 0.27374\tNDCG: 0.26155\n",
            "The time for epoch 119 is: train time = 00: 00: 10, test time = 00: 00: 00\n",
            "Loss = 17.14535, F1-score: 0.197679 \t Precision: 0.15472\t Recall: 0.27365\tNDCG: 0.26028\n",
            "The time for epoch 120 is: train time = 00: 00: 10, test time = 00: 00: 00\n",
            "Loss = 17.05433, F1-score: 0.198116 \t Precision: 0.15511\t Recall: 0.27411\tNDCG: 0.25999\n",
            "The time for epoch 121 is: train time = 00: 00: 10, test time = 00: 00: 00\n",
            "Loss = 17.39380, F1-score: 0.197976 \t Precision: 0.15481\t Recall: 0.27453\tNDCG: 0.26089\n",
            "The time for epoch 122 is: train time = 00: 00: 10, test time = 00: 00: 00\n",
            "Loss = 17.08559, F1-score: 0.196936 \t Precision: 0.15437\t Recall: 0.27192\tNDCG: 0.25942\n",
            "The time for epoch 123 is: train time = 00: 00: 10, test time = 00: 00: 00\n",
            "Loss = 16.76728, F1-score: 0.198372 \t Precision: 0.15541\t Recall: 0.27418\tNDCG: 0.26120\n",
            "The time for epoch 124 is: train time = 00: 00: 10, test time = 00: 00: 00\n",
            "Loss = 17.31390, F1-score: 0.197951 \t Precision: 0.15499\t Recall: 0.27386\tNDCG: 0.26052\n",
            "The time for epoch 125 is: train time = 00: 00: 10, test time = 00: 00: 00\n",
            "Loss = 17.03609, F1-score: 0.197569 \t Precision: 0.15457\t Recall: 0.27369\tNDCG: 0.26087\n",
            "The time for epoch 126 is: train time = 00: 00: 10, test time = 00: 00: 00\n",
            "Loss = 16.65282, F1-score: 0.198503 \t Precision: 0.15547\t Recall: 0.27447\tNDCG: 0.26096\n",
            "The time for epoch 127 is: train time = 00: 00: 10, test time = 00: 00: 00\n",
            "Loss = 17.26072, F1-score: 0.198456 \t Precision: 0.15530\t Recall: 0.27484\tNDCG: 0.26224\n",
            "The time for epoch 128 is: train time = 00: 00: 10, test time = 00: 00: 00\n",
            "Loss = 16.95123, F1-score: 0.198327 \t Precision: 0.15526\t Recall: 0.27447\tNDCG: 0.26152\n",
            "The time for epoch 129 is: train time = 00: 00: 10, test time = 00: 00: 00\n",
            "Loss = 16.72049, F1-score: 0.198101 \t Precision: 0.15502\t Recall: 0.27433\tNDCG: 0.25996\n",
            "##########################################\n",
            "Early stop is triggered at 129 epochs.\n",
            "Results:\n",
            "best epoch = 79, best recall = 0.2776111303103336, best ndcg = 0.2628752288965452\n",
            "The best model is saved at ./ultragcn_ml-1m.pt\n",
            "Training end!\n",
            "END\n"
          ]
        }
      ],
      "source": [
        "main.run('ml-1m_config.ini')"
      ]
    },
    {
      "cell_type": "code",
      "source": [
        "recall_paper = 0.2787\n",
        "ndcg_paper = 0.2642\n",
        "epochs_paper = 136\n",
        "\n",
        "recall_reprod = 0.2776111303103336\n",
        "ndcg_reprod = 0.2628752288965452\n",
        "epochs_reprod = 129\n",
        "\n",
        "print_eval(recall_reprod, ndcg_reprod, recall_paper, ndcg_paper, epochs_paper, epochs_reprod)"
      ],
      "metadata": {
        "colab": {
          "base_uri": "https://localhost:8080/"
        },
        "id": "qu0nl0dY6l1b",
        "outputId": "e27a7a0f-fce7-47e5-b183-c79e234e67a4"
      },
      "execution_count": null,
      "outputs": [
        {
          "output_type": "stream",
          "name": "stdout",
          "text": [
            "reproduced recall off by -0.39%\n",
            "reproduced NDCG off by -0.5%\n",
            "\n",
            "difference in epochs needed when reproducing: 0 epochs or 0.0%\n"
          ]
        }
      ]
    },
    {
      "cell_type": "markdown",
      "metadata": {
        "id": "g87E0yAo9h_p"
      },
      "source": [
        "## Reproducing Amazon results (sampled dataset due to RAM constraints)"
      ]
    },
    {
      "cell_type": "code",
      "source": [
        "#sample_amazon_set(17547, 30863) # 33% of users and items\n",
        "sample_amazon_set(21057, 36640) # 40% of users and items"
      ],
      "metadata": {
        "id": "O7thDTsK0g3i",
        "colab": {
          "base_uri": "https://localhost:8080/"
        },
        "outputId": "e248941c-a79c-4354-ab71-f793ab866ee9"
      },
      "execution_count": 14,
      "outputs": [
        {
          "output_type": "stream",
          "name": "stdout",
          "text": [
            "Number of users: 21057\n"
          ]
        }
      ]
    },
    {
      "cell_type": "code",
      "source": [
        "main.run('amazon_sampled_config.ini')"
      ],
      "metadata": {
        "colab": {
          "base_uri": "https://localhost:8080/"
        },
        "id": "b0s41X5K9lAh",
        "outputId": "e8d52050-9a56-4160-a7d3-d0a98eb11410"
      },
      "execution_count": 7,
      "outputs": [
        {
          "output_type": "stream",
          "name": "stdout",
          "text": [
            "###################### UltraGCN ######################\n",
            "1. Loading Configuration...\n"
          ]
        },
        {
          "output_type": "stream",
          "name": "stderr",
          "text": [
            "/usr/local/lib/python3.8/dist-packages/torch/utils/data/dataloader.py:554: UserWarning: This DataLoader will create 5 worker processes in total. Our suggested max number of worker in current system is 2, which is smaller than what this DataLoader is going to create. Please be aware that excessive worker creation might get DataLoader running slow or even freeze, lower the worker number to avoid potential slowness/freeze if necessary.\n",
            "  warnings.warn(_create_warning_msg(\n"
          ]
        },
        {
          "output_type": "stream",
          "name": "stdout",
          "text": [
            "Computing \\Omega for the item-item graph... \n"
          ]
        },
        {
          "output_type": "stream",
          "name": "stderr",
          "text": [
            "/content/ExpDesign_WS22/UltraGCN/main_custom_parameters.py:95: RuntimeWarning: divide by zero encountered in true_divide\n",
            "  beta_uD = (np.sqrt(users_D + 1) / users_D).reshape(-1, 1)\n"
          ]
        },
        {
          "output_type": "stream",
          "name": "stdout",
          "text": [
            "i-i constraint matrix 0 ok\n",
            "i-i constraint matrix 15000 ok\n",
            "i-i constraint matrix 30000 ok\n",
            "Computation \\Omega OK!\n",
            "store object in path = ./amazon_sampled_ii_neighbor_mat_10 ok\n",
            "store object in path = ./amazon_sampled_ii_constraint_mat_10 ok\n",
            "Load Configuration OK, show them below\n",
            "Configuration:\n",
            "{'embedding_dim': 64, 'ii_neighbor_num': 10, 'model_save_path': './ultragcn_amazon_sampled.pt', 'max_epoch': 2000, 'enable_tensorboard': True, 'initial_weight': 0.0001, 'dataset': 'amazon_sampled', 'train_file_path': './data/amazon_sampled/train.txt', 'gpu': '0', 'learning_rate': 0.001, 'batch_size': 1024, 'early_stop_epoch': 15, 'w1': 1e-08, 'w2': 1.0, 'w3': 1.0, 'w4': 1e-08, 'negative_num': 500, 'negative_weight': 500.0, 'gamma': 0.0001, 'lambda': 2.75, 'sampling_sift_pos': False, 'test_batch_size': 2048, 'topk': 20, 'test_file_path': './data/amazon_sampled/test.txt', 'device': device(type='cuda', index=0), 'user_num': 21057, 'item_num': 36640}\n",
            "Total training batches = 493\n"
          ]
        },
        {
          "output_type": "stream",
          "name": "stderr",
          "text": [
            "/usr/local/lib/python3.8/dist-packages/torch/utils/data/dataloader.py:554: UserWarning: This DataLoader will create 5 worker processes in total. Our suggested max number of worker in current system is 2, which is smaller than what this DataLoader is going to create. Please be aware that excessive worker creation might get DataLoader running slow or even freeze, lower the worker number to avoid potential slowness/freeze if necessary.\n",
            "  warnings.warn(_create_warning_msg(\n"
          ]
        },
        {
          "output_type": "stream",
          "name": "stdout",
          "text": [
            "The time for epoch 0 is: train time = 00: 00: 14, test time = 00: 00: 08\n",
            "Loss = 26009.67773, F1-score: 0.001783 \t Precision: 0.00113\t Recall: 0.00429\tNDCG: 0.00407\n",
            "The time for epoch 5 is: train time = 00: 00: 11, test time = 00: 00: 05\n",
            "Loss = 1747.20483, F1-score: 0.004798 \t Precision: 0.00302\t Recall: 0.01169\tNDCG: 0.00795\n",
            "The time for epoch 10 is: train time = 00: 00: 12, test time = 00: 00: 05\n",
            "Loss = 1577.30396, F1-score: 0.004786 \t Precision: 0.00300\t Recall: 0.01177\tNDCG: 0.00788\n",
            "The time for epoch 15 is: train time = 00: 00: 12, test time = 00: 00: 05\n",
            "Loss = 1511.96423, F1-score: 0.004791 \t Precision: 0.00301\t Recall: 0.01180\tNDCG: 0.00807\n",
            "The time for epoch 20 is: train time = 00: 00: 11, test time = 00: 00: 05\n",
            "Loss = 1501.38989, F1-score: 0.004253 \t Precision: 0.00268\t Recall: 0.01035\tNDCG: 0.00723\n",
            "The time for epoch 25 is: train time = 00: 00: 11, test time = 00: 00: 05\n",
            "Loss = 1490.27222, F1-score: 0.005038 \t Precision: 0.00318\t Recall: 0.01217\tNDCG: 0.00796\n",
            "The time for epoch 30 is: train time = 00: 00: 11, test time = 00: 00: 05\n",
            "Loss = 1396.21899, F1-score: 0.009431 \t Precision: 0.00600\t Recall: 0.02202\tNDCG: 0.01416\n",
            "The time for epoch 35 is: train time = 00: 00: 11, test time = 00: 00: 05\n",
            "Loss = 1232.59644, F1-score: 0.014812 \t Precision: 0.00940\t Recall: 0.03487\tNDCG: 0.02276\n",
            "The time for epoch 40 is: train time = 00: 00: 11, test time = 00: 00: 05\n",
            "Loss = 1100.63293, F1-score: 0.018493 \t Precision: 0.01167\t Recall: 0.04458\tNDCG: 0.02923\n",
            "The time for epoch 45 is: train time = 00: 00: 11, test time = 00: 00: 05\n",
            "Loss = 1066.30872, F1-score: 0.020581 \t Precision: 0.01290\t Recall: 0.05082\tNDCG: 0.03284\n",
            "The time for epoch 50 is: train time = 00: 00: 11, test time = 00: 00: 05\n",
            "Loss = 1007.19067, F1-score: 0.021655 \t Precision: 0.01354\t Recall: 0.05409\tNDCG: 0.03527\n",
            "The time for epoch 51 is: train time = 00: 00: 11, test time = 00: 00: 05\n",
            "Loss = 994.82715, F1-score: 0.021700 \t Precision: 0.01356\t Recall: 0.05428\tNDCG: 0.03555\n",
            "The time for epoch 52 is: train time = 00: 00: 11, test time = 00: 00: 05\n",
            "Loss = 1026.78845, F1-score: 0.021807 \t Precision: 0.01363\t Recall: 0.05455\tNDCG: 0.03568\n",
            "The time for epoch 53 is: train time = 00: 00: 11, test time = 00: 00: 05\n",
            "Loss = 1005.13965, F1-score: 0.022001 \t Precision: 0.01373\t Recall: 0.05530\tNDCG: 0.03636\n",
            "The time for epoch 54 is: train time = 00: 00: 11, test time = 00: 00: 05\n",
            "Loss = 972.96777, F1-score: 0.022294 \t Precision: 0.01391\t Recall: 0.05617\tNDCG: 0.03652\n",
            "The time for epoch 55 is: train time = 00: 00: 12, test time = 00: 00: 05\n",
            "Loss = 999.31665, F1-score: 0.022130 \t Precision: 0.01381\t Recall: 0.05574\tNDCG: 0.03639\n",
            "The time for epoch 56 is: train time = 00: 00: 12, test time = 00: 00: 05\n",
            "Loss = 964.74780, F1-score: 0.022350 \t Precision: 0.01394\t Recall: 0.05630\tNDCG: 0.03686\n",
            "The time for epoch 57 is: train time = 00: 00: 11, test time = 00: 00: 05\n",
            "Loss = 960.92694, F1-score: 0.022349 \t Precision: 0.01392\t Recall: 0.05670\tNDCG: 0.03696\n",
            "The time for epoch 58 is: train time = 00: 00: 11, test time = 00: 00: 05\n",
            "Loss = 965.32233, F1-score: 0.022306 \t Precision: 0.01389\t Recall: 0.05654\tNDCG: 0.03683\n",
            "The time for epoch 59 is: train time = 00: 00: 11, test time = 00: 00: 05\n",
            "Loss = 959.68982, F1-score: 0.022341 \t Precision: 0.01390\t Recall: 0.05684\tNDCG: 0.03704\n",
            "The time for epoch 60 is: train time = 00: 00: 11, test time = 00: 00: 05\n",
            "Loss = 954.47998, F1-score: 0.022286 \t Precision: 0.01387\t Recall: 0.05665\tNDCG: 0.03708\n",
            "The time for epoch 61 is: train time = 00: 00: 11, test time = 00: 00: 05\n",
            "Loss = 911.32019, F1-score: 0.022426 \t Precision: 0.01396\t Recall: 0.05695\tNDCG: 0.03725\n",
            "The time for epoch 62 is: train time = 00: 00: 11, test time = 00: 00: 05\n",
            "Loss = 932.48322, F1-score: 0.022478 \t Precision: 0.01399\t Recall: 0.05710\tNDCG: 0.03726\n",
            "The time for epoch 63 is: train time = 00: 00: 11, test time = 00: 00: 05\n",
            "Loss = 917.02917, F1-score: 0.022323 \t Precision: 0.01388\t Recall: 0.05693\tNDCG: 0.03719\n",
            "The time for epoch 64 is: train time = 00: 00: 11, test time = 00: 00: 05\n",
            "Loss = 920.62787, F1-score: 0.022364 \t Precision: 0.01391\t Recall: 0.05702\tNDCG: 0.03719\n",
            "The time for epoch 65 is: train time = 00: 00: 11, test time = 00: 00: 05\n",
            "Loss = 935.51630, F1-score: 0.022152 \t Precision: 0.01375\t Recall: 0.05691\tNDCG: 0.03690\n",
            "The time for epoch 66 is: train time = 00: 00: 11, test time = 00: 00: 05\n",
            "Loss = 913.33527, F1-score: 0.022342 \t Precision: 0.01387\t Recall: 0.05733\tNDCG: 0.03716\n",
            "The time for epoch 67 is: train time = 00: 00: 11, test time = 00: 00: 05\n",
            "Loss = 907.60315, F1-score: 0.022362 \t Precision: 0.01391\t Recall: 0.05699\tNDCG: 0.03718\n",
            "The time for epoch 68 is: train time = 00: 00: 11, test time = 00: 00: 05\n",
            "Loss = 903.91357, F1-score: 0.022337 \t Precision: 0.01388\t Recall: 0.05719\tNDCG: 0.03712\n",
            "The time for epoch 69 is: train time = 00: 00: 11, test time = 00: 00: 05\n",
            "Loss = 918.36304, F1-score: 0.022267 \t Precision: 0.01384\t Recall: 0.05696\tNDCG: 0.03723\n",
            "The time for epoch 70 is: train time = 00: 00: 11, test time = 00: 00: 05\n",
            "Loss = 903.40930, F1-score: 0.022392 \t Precision: 0.01391\t Recall: 0.05742\tNDCG: 0.03729\n",
            "The time for epoch 71 is: train time = 00: 00: 11, test time = 00: 00: 05\n",
            "Loss = 912.34216, F1-score: 0.022227 \t Precision: 0.01381\t Recall: 0.05688\tNDCG: 0.03718\n",
            "The time for epoch 72 is: train time = 00: 00: 11, test time = 00: 00: 05\n",
            "Loss = 911.82697, F1-score: 0.022260 \t Precision: 0.01385\t Recall: 0.05675\tNDCG: 0.03713\n",
            "The time for epoch 73 is: train time = 00: 00: 11, test time = 00: 00: 05\n",
            "Loss = 899.79834, F1-score: 0.022105 \t Precision: 0.01374\t Recall: 0.05644\tNDCG: 0.03696\n",
            "The time for epoch 74 is: train time = 00: 00: 11, test time = 00: 00: 05\n",
            "Loss = 884.32214, F1-score: 0.022178 \t Precision: 0.01379\t Recall: 0.05656\tNDCG: 0.03726\n",
            "The time for epoch 75 is: train time = 00: 00: 11, test time = 00: 00: 05\n",
            "Loss = 911.19678, F1-score: 0.021910 \t Precision: 0.01362\t Recall: 0.05602\tNDCG: 0.03702\n",
            "The time for epoch 76 is: train time = 00: 00: 11, test time = 00: 00: 05\n",
            "Loss = 908.07367, F1-score: 0.022021 \t Precision: 0.01368\t Recall: 0.05643\tNDCG: 0.03690\n",
            "The time for epoch 77 is: train time = 00: 00: 11, test time = 00: 00: 05\n",
            "Loss = 886.17413, F1-score: 0.022095 \t Precision: 0.01374\t Recall: 0.05635\tNDCG: 0.03701\n",
            "The time for epoch 78 is: train time = 00: 00: 11, test time = 00: 00: 05\n",
            "Loss = 882.87872, F1-score: 0.021966 \t Precision: 0.01365\t Recall: 0.05623\tNDCG: 0.03706\n",
            "The time for epoch 79 is: train time = 00: 00: 11, test time = 00: 00: 05\n",
            "Loss = 874.79907, F1-score: 0.021850 \t Precision: 0.01359\t Recall: 0.05564\tNDCG: 0.03672\n",
            "The time for epoch 80 is: train time = 00: 00: 11, test time = 00: 00: 05\n",
            "Loss = 857.81458, F1-score: 0.021957 \t Precision: 0.01367\t Recall: 0.05583\tNDCG: 0.03678\n",
            "The time for epoch 81 is: train time = 00: 00: 11, test time = 00: 00: 05\n",
            "Loss = 859.84692, F1-score: 0.021913 \t Precision: 0.01362\t Recall: 0.05610\tNDCG: 0.03685\n",
            "The time for epoch 82 is: train time = 00: 00: 11, test time = 00: 00: 05\n",
            "Loss = 858.06146, F1-score: 0.021761 \t Precision: 0.01353\t Recall: 0.05548\tNDCG: 0.03662\n",
            "The time for epoch 83 is: train time = 00: 00: 11, test time = 00: 00: 05\n",
            "Loss = 863.72284, F1-score: 0.021779 \t Precision: 0.01354\t Recall: 0.05563\tNDCG: 0.03657\n",
            "The time for epoch 84 is: train time = 00: 00: 11, test time = 00: 00: 05\n",
            "Loss = 877.54102, F1-score: 0.021848 \t Precision: 0.01358\t Recall: 0.05589\tNDCG: 0.03668\n",
            "The time for epoch 85 is: train time = 00: 00: 11, test time = 00: 00: 05\n",
            "Loss = 871.27148, F1-score: 0.022015 \t Precision: 0.01369\t Recall: 0.05611\tNDCG: 0.03686\n",
            "##########################################\n",
            "Early stop is triggered at 85 epochs.\n",
            "Results:\n",
            "best epoch = 70, best recall = 0.057421455844465494, best ndcg = 0.03728846210162489\n",
            "The best model is saved at ./ultragcn_amazon_sampled.pt\n",
            "Training end!\n",
            "END\n"
          ]
        }
      ]
    },
    {
      "cell_type": "code",
      "execution_count": 10,
      "metadata": {
        "colab": {
          "base_uri": "https://localhost:8080/"
        },
        "outputId": "927e7a01-ea29-4f66-c90f-af0a6c0f299e",
        "id": "GoKjA1SS9h_t"
      },
      "outputs": [
        {
          "output_type": "stream",
          "name": "stdout",
          "text": [
            "reproduced recall off by -15.68%\n",
            "reproduced NDCG off by -32.93%\n",
            "\n",
            "difference in epochs needed when reproducing: 1 epochs or 1.18%\n"
          ]
        }
      ],
      "source": [
        "recall_paper = 0.0681\n",
        "ndcg_paper = 0.0556\n",
        "epochs_paper = 86\n",
        "\n",
        "recall_reprod = 0.057421455844465494\n",
        "ndcg_reprod = 0.03728846210162489\n",
        "epochs_reprod = 85\n",
        "\n",
        "print_eval(recall_reprod, ndcg_reprod, recall_paper, ndcg_paper, epochs_paper, epochs_reprod)"
      ]
    },
    {
      "cell_type": "markdown",
      "metadata": {
        "id": "s1XSpKHJNEe4"
      },
      "source": [
        "## Ablation study\n",
        "disable different parameters by overwriting:\n",
        "1. lambda = 0, gamma = 0\n",
        "1. lambda = 0\n",
        "1. gamma = 0"
      ]
    },
    {
      "cell_type": "code",
      "execution_count": 9,
      "metadata": {
        "colab": {
          "base_uri": "https://localhost:8080/"
        },
        "id": "G82RyTggNXyn",
        "outputId": "8863b963-662e-4ec7-ee89-dc4a721c1b8d"
      },
      "outputs": [
        {
          "output_type": "stream",
          "name": "stdout",
          "text": [
            "###################### UltraGCN ######################\n",
            "1. Loading Configuration...\n",
            "load path = ./amazon_sampled_ii_constraint_mat_10 object\n",
            "load path = ./amazon_sampled_ii_neighbor_mat_10 object\n",
            "Load Configuration OK, show them below\n",
            "Configuration:\n",
            "{'embedding_dim': 64, 'ii_neighbor_num': 10, 'model_save_path': './ultragcn_amazon_sampled.pt', 'max_epoch': 2000, 'enable_tensorboard': True, 'initial_weight': 0.0001, 'dataset': 'amazon_sampled', 'train_file_path': './data/amazon_sampled/train.txt', 'gpu': '0', 'learning_rate': 0.001, 'batch_size': 1024, 'early_stop_epoch': 15, 'w1': 1e-08, 'w2': 1.0, 'w3': 1.0, 'w4': 1e-08, 'negative_num': 500, 'negative_weight': 500.0, 'gamma': 0.0, 'lambda': 0.0, 'sampling_sift_pos': False, 'test_batch_size': 2048, 'topk': 20, 'test_file_path': './data/amazon_sampled/test.txt', 'device': device(type='cuda', index=0), 'user_num': 21057, 'item_num': 36640}\n",
            "Total training batches = 493\n",
            "##########################################\n",
            "Early stop is triggered at 80 epochs.\n",
            "Results:\n",
            "best epoch = 65, best recall = 0.04918000384021738, best ndcg = 0.030738173917234976\n",
            "The best model is saved at ./ultragcn_amazon_sampled.pt\n",
            "Training end!\n",
            "END\n"
          ]
        }
      ],
      "source": [
        "custom_params = {\n",
        "    'gamma': 0, \n",
        "    'lambda': 0\n",
        "}\n",
        "main.run('amazon_sampled_config.ini', custom_params, report_progress=False)"
      ]
    },
    {
      "cell_type": "code",
      "execution_count": 10,
      "metadata": {
        "colab": {
          "base_uri": "https://localhost:8080/"
        },
        "id": "jS-9lGmzPcEZ",
        "outputId": "37fbd36d-f106-4593-8da0-58dca448282a"
      },
      "outputs": [
        {
          "output_type": "stream",
          "name": "stdout",
          "text": [
            "###################### UltraGCN ######################\n",
            "1. Loading Configuration...\n",
            "load path = ./amazon_sampled_ii_constraint_mat_10 object\n",
            "load path = ./amazon_sampled_ii_neighbor_mat_10 object\n",
            "Load Configuration OK, show them below\n",
            "Configuration:\n",
            "{'embedding_dim': 64, 'ii_neighbor_num': 10, 'model_save_path': './ultragcn_amazon_sampled.pt', 'max_epoch': 2000, 'enable_tensorboard': True, 'initial_weight': 0.0001, 'dataset': 'amazon_sampled', 'train_file_path': './data/amazon_sampled/train.txt', 'gpu': '0', 'learning_rate': 0.001, 'batch_size': 1024, 'early_stop_epoch': 15, 'w1': 1e-08, 'w2': 1.0, 'w3': 1.0, 'w4': 1e-08, 'negative_num': 500, 'negative_weight': 500.0, 'gamma': 0.0001, 'lambda': 0.0, 'sampling_sift_pos': False, 'test_batch_size': 2048, 'topk': 20, 'test_file_path': './data/amazon_sampled/test.txt', 'device': device(type='cuda', index=0), 'user_num': 21057, 'item_num': 36640}\n",
            "Total training batches = 493\n",
            "##########################################\n",
            "Early stop is triggered at 89 epochs.\n",
            "Results:\n",
            "best epoch = 74, best recall = 0.050109096677435815, best ndcg = 0.031403093994895125\n",
            "The best model is saved at ./ultragcn_amazon_sampled.pt\n",
            "Training end!\n",
            "END\n"
          ]
        }
      ],
      "source": [
        "custom_params = {\n",
        "    'lambda': 0\n",
        "}\n",
        "main.run('amazon_sampled_config.ini', custom_params, report_progress=False)"
      ]
    },
    {
      "cell_type": "code",
      "execution_count": 11,
      "metadata": {
        "colab": {
          "base_uri": "https://localhost:8080/"
        },
        "id": "NrG68foiPfUo",
        "outputId": "eaa52df6-d378-4896-8a5f-999b1539f5a5"
      },
      "outputs": [
        {
          "output_type": "stream",
          "name": "stdout",
          "text": [
            "###################### UltraGCN ######################\n",
            "1. Loading Configuration...\n",
            "load path = ./amazon_sampled_ii_constraint_mat_10 object\n",
            "load path = ./amazon_sampled_ii_neighbor_mat_10 object\n",
            "Load Configuration OK, show them below\n",
            "Configuration:\n",
            "{'embedding_dim': 64, 'ii_neighbor_num': 10, 'model_save_path': './ultragcn_amazon_sampled.pt', 'max_epoch': 2000, 'enable_tensorboard': True, 'initial_weight': 0.0001, 'dataset': 'amazon_sampled', 'train_file_path': './data/amazon_sampled/train.txt', 'gpu': '0', 'learning_rate': 0.001, 'batch_size': 1024, 'early_stop_epoch': 15, 'w1': 1e-08, 'w2': 1.0, 'w3': 1.0, 'w4': 1e-08, 'negative_num': 500, 'negative_weight': 500.0, 'gamma': 0.0, 'lambda': 2.75, 'sampling_sift_pos': False, 'test_batch_size': 2048, 'topk': 20, 'test_file_path': './data/amazon_sampled/test.txt', 'device': device(type='cuda', index=0), 'user_num': 21057, 'item_num': 36640}\n",
            "Total training batches = 493\n",
            "##########################################\n",
            "Early stop is triggered at 75 epochs.\n",
            "Results:\n",
            "best epoch = 60, best recall = 0.05677387126798456, best ndcg = 0.03702149429681787\n",
            "The best model is saved at ./ultragcn_amazon_sampled.pt\n",
            "Training end!\n",
            "END\n"
          ]
        }
      ],
      "source": [
        "custom_params = {\n",
        "    'gamma': 0 \n",
        "}\n",
        "main.run('amazon_sampled_config.ini', custom_params, report_progress=False)"
      ]
    },
    {
      "cell_type": "code",
      "execution_count": 11,
      "metadata": {
        "colab": {
          "base_uri": "https://localhost:8080/",
          "height": 404
        },
        "id": "AQsRg2DLUFNN",
        "outputId": "ec405828-e2a2-4b47-86ee-a83ae15b31b3"
      },
      "outputs": [
        {
          "output_type": "display_data",
          "data": {
            "text/plain": [
              "<Figure size 864x432 with 2 Axes>"
            ],
            "image/png": "[encoded data removed]"
          },
          "metadata": {
            "needs_background": "light"
          }
        }
      ],
      "source": [
        "import numpy as np\n",
        "import matplotlib.pyplot as plt\n",
        "\n",
        "n = 4\n",
        "model_names = ['UltraGCN\\n(\\u03BB=0,\\u03B3=0)', 'UltraGCN\\n(\\u03B3=0)', 'UltraGCN\\n(\\u03BB=0)', 'UltraGCN']\n",
        "recall_results = [0.04918000384021738, 0.050109096677435815, 0.050109096677435815, recall_reprod]\n",
        "ndcg_results = [0.030738173917234976, 0.031403093994895125, 0.031403093994895125, ndcg_reprod]\n",
        "\n",
        "plt_, ax = plt.subplots(1, 2, figsize=(12,6))\n",
        "ax[0].bar(range(n), recall_results, width=0.9, tick_label=model_names)\n",
        "ax[0].set_xticks(range(n))\n",
        "ax[0].set_yticks(np.arange(0.02, 0.08, 0.01))\n",
        "ax[0].set_xlabel('model')\n",
        "ax[0].set_ylabel('Recall@20')\n",
        "\n",
        "ax[1].bar(range(n), ndcg_results, width=0.9, color='orange', tick_label=model_names)\n",
        "ax[1].set_xticks(range(n))\n",
        "ax[1].set_yticks(np.arange(0.02, 0.07, 0.01))\n",
        "ax[1].set_xlabel('model')\n",
        "ax[1].set_ylabel('NDCG@20')\n",
        "\n",
        "plt.show()"
      ]
    },
    {
      "cell_type": "markdown",
      "metadata": {
        "id": "pwnGr_65MiRx"
      },
      "source": [
        "## Parameter Influence\n",
        "\n",
        "Appying different parameter settings. \n",
        "\n",
        "for K = [5, 10, 20, 50]"
      ]
    },
    {
      "cell_type": "code",
      "execution_count": 4,
      "metadata": {
        "colab": {
          "base_uri": "https://localhost:8080/"
        },
        "id": "Z34o-vMTMzLr",
        "outputId": "31c575f2-c116-4ebc-a0db-ccf865533471"
      },
      "outputs": [
        {
          "metadata": {
            "tags": null
          },
          "name": "stdout",
          "output_type": "stream",
          "text": [
            "###################### UltraGCN ######################\n",
            "1. Loading Configuration...\n"
          ]
        },
        {
          "metadata": {
            "tags": null
          },
          "name": "stderr",
          "output_type": "stream",
          "text": [
            "/usr/local/lib/python3.8/dist-packages/torch/utils/data/dataloader.py:554: UserWarning: This DataLoader will create 5 worker processes in total. Our suggested max number of worker in current system is 2, which is smaller than what this DataLoader is going to create. Please be aware that excessive worker creation might get DataLoader running slow or even freeze, lower the worker number to avoid potential slowness/freeze if necessary.\n",
            "  warnings.warn(_create_warning_msg(\n"
          ]
        },
        {
          "metadata": {
            "tags": null
          },
          "name": "stdout",
          "output_type": "stream",
          "text": [
            "load path = ./amazon_sampled_ii_constraint_mat_5 object\n",
            "load path = ./amazon_sampled_ii_neighbor_mat_5 object\n",
            "Load Configuration OK, show them below\n",
            "Configuration:\n",
            "{'embedding_dim': 64, 'ii_neighbor_num': 5, 'model_save_path': './ultragcn_amazon_sampled.pt', 'max_epoch': 2000, 'enable_tensorboard': True, 'initial_weight': 0.0001, 'dataset': 'amazon_sampled', 'train_file_path': './data/amazon_sampled/train.txt', 'gpu': '0', 'learning_rate': 0.001, 'batch_size': 1024, 'early_stop_epoch': 15, 'w1': 1e-08, 'w2': 1.0, 'w3': 1.0, 'w4': 1e-08, 'negative_num': 500, 'negative_weight': 500.0, 'gamma': 0.0001, 'lambda': 2.75, 'sampling_sift_pos': False, 'test_batch_size': 2048, 'topk': 20, 'test_file_path': './data/amazon_sampled/test.txt', 'device': device(type='cuda', index=0), 'user_num': 21057, 'item_num': 36640}\n",
            "Total training batches = 493\n"
          ]
        },
        {
          "metadata": {
            "tags": null
          },
          "name": "stderr",
          "output_type": "stream",
          "text": [
            "/usr/local/lib/python3.8/dist-packages/torch/utils/data/dataloader.py:554: UserWarning: This DataLoader will create 5 worker processes in total. Our suggested max number of worker in current system is 2, which is smaller than what this DataLoader is going to create. Please be aware that excessive worker creation might get DataLoader running slow or even freeze, lower the worker number to avoid potential slowness/freeze if necessary.\n",
            "  warnings.warn(_create_warning_msg(\n"
          ]
        },
        {
          "output_type": "stream",
          "name": "stdout",
          "text": [
            "##########################################\n",
            "Early stop is triggered at 79 epochs.\n",
            "Results:\n",
            "best epoch = 64, best recall = 0.05807551680906002, best ndcg = 0.03806443018640664\n",
            "The best model is saved at ./ultragcn_amazon_sampled.pt\n",
            "Training end!\n",
            "END\n"
          ]
        }
      ],
      "source": [
        "custom_params = {\n",
        "    'ii_neighbor_num': 5 \n",
        "}\n",
        "main.run('amazon_sampled_config.ini', custom_params, report_progress=False)"
      ]
    },
    {
      "cell_type": "code",
      "execution_count": null,
      "metadata": {
        "colab": {
          "base_uri": "https://localhost:8080/"
        },
        "id": "s_YkC6G4M91d",
        "outputId": "45ff0d58-ab08-4b4f-8276-f1aa8a0812e5"
      },
      "outputs": [
        {
          "output_type": "stream",
          "name": "stdout",
          "text": [
            "###################### UltraGCN ######################\n",
            "1. Loading Configuration...\n"
          ]
        },
        {
          "output_type": "stream",
          "name": "stderr",
          "text": [
            "/usr/local/lib/python3.8/dist-packages/torch/utils/data/dataloader.py:554: UserWarning: This DataLoader will create 5 worker processes in total. Our suggested max number of worker in current system is 2, which is smaller than what this DataLoader is going to create. Please be aware that excessive worker creation might get DataLoader running slow or even freeze, lower the worker number to avoid potential slowness/freeze if necessary.\n",
            "  warnings.warn(_create_warning_msg(\n"
          ]
        },
        {
          "output_type": "stream",
          "name": "stdout",
          "text": [
            "load path = ./amazon_sampled_ii_constraint_mat_10 object\n",
            "load path = ./amazon_sampled_ii_neighbor_mat_10 object\n",
            "Load Configuration OK, show them below\n",
            "Configuration:\n",
            "{'embedding_dim': 64, 'ii_neighbor_num': 10, 'model_save_path': './ultragcn_amazon_sampled.pt', 'max_epoch': 2000, 'enable_tensorboard': True, 'initial_weight': 0.0001, 'dataset': 'amazon_sampled', 'train_file_path': './data/amazon_sampled/train.txt', 'gpu': '0', 'learning_rate': 0.001, 'batch_size': 1024, 'early_stop_epoch': 15, 'w1': 1e-08, 'w2': 1.0, 'w3': 1.0, 'w4': 1e-08, 'negative_num': 500, 'negative_weight': 500.0, 'gamma': 0.0001, 'lambda': 2.75, 'sampling_sift_pos': False, 'test_batch_size': 2048, 'topk': 20, 'test_file_path': './data/amazon_sampled/test.txt', 'device': device(type='cpu'), 'user_num': 21057, 'item_num': 36640}\n",
            "Total training batches = 493\n",
            "The time for epoch 0 is: train time = 00: 03: 01, test time = 00: 00: 07\n",
            "Loss = 23741.62695, F1-score: 0.003005 \t Precision: 0.00189\t Recall: 0.00733\tNDCG: 0.00568\n"
          ]
        }
      ],
      "source": [
        "custom_params = {\n",
        "    'ii_neighbor_num': 10 \n",
        "}\n",
        "main.run('amazon_sampled_config.ini', custom_params)"
      ]
    },
    {
      "cell_type": "code",
      "execution_count": null,
      "metadata": {
        "id": "Psqs6YpQNF-6"
      },
      "outputs": [],
      "source": [
        "custom_params = {\n",
        "    'ii_neighbor_num': 20 \n",
        "}\n",
        "main.run('amazon_sampled_config.ini', custom_params, report_progress=False)"
      ]
    },
    {
      "cell_type": "code",
      "execution_count": null,
      "metadata": {
        "id": "3NdwNgkSNH-5"
      },
      "outputs": [],
      "source": [
        "custom_params = {\n",
        "    'ii_neighbor_num': 50 \n",
        "}\n",
        "main.run('amazon_sampled_config.ini', custom_params, report_progress=False)"
      ]
    },
    {
      "cell_type": "code",
      "execution_count": null,
      "metadata": {
        "colab": {
          "base_uri": "https://localhost:8080/",
          "height": 388
        },
        "id": "97VMi9kqNJIv",
        "outputId": "04d88954-9b38-4b3a-aefa-150f90810578"
      },
      "outputs": [
        {
          "data": {
            "image/png": "[encoded data removed]",
            "text/plain": [
              "<Figure size 432x432 with 1 Axes>"
            ]
          },
          "metadata": {
            "needs_background": "light"
          },
          "output_type": "display_data"
        }
      ],
      "source": [
        "import numpy as np\n",
        "import matplotlib.pyplot as plt\n",
        "import matplotlib\n",
        "\n",
        "n = 4\n",
        "k= [5, 10, 20, 50]\n",
        "recall_results = []\n",
        "ndcg_results = []\n",
        "\n",
        "plt_, ax = plt.subplots(1, 1, figsize=(6,6))\n",
        "ax.plot(k, recall_results, marker='D')\n",
        "ax.set_ylim(min(recall_results + ndcg_results)*0.9, max(recall_results + ndcg_results)*1.1)\n",
        "ax.set_xscale('log')\n",
        "ax.set_xticks(k)\n",
        "ax.get_xaxis().set_major_formatter(matplotlib.ticker.ScalarFormatter())\n",
        "ax.minorticks_off()\n",
        "ax.set_xlabel('K')\n",
        "ax.set_ylabel('Recall@20')\n",
        "ax.plot(k, ndcg_results, color = 'orange', marker='D')\n",
        "ax.legend(['Recall', 'NDCG'])\n",
        "\n",
        "plt.show()"
      ]
    },
    {
      "cell_type": "code",
      "execution_count": null,
      "metadata": {
        "id": "TtOKp7F_kyP7"
      },
      "outputs": [],
      "source": []
    }
  ],
  "metadata": {
    "accelerator": "GPU",
    "colab": {
      "provenance": []
    },
    "gpuClass": "standard",
    "kernelspec": {
      "display_name": "Python 3",
      "language": "python",
      "name": "python3"
    },
    "language_info": {
      "codemirror_mode": {
        "name": "ipython",
        "version": 3
      },
      "file_extension": ".py",
      "mimetype": "text/x-python",
      "name": "python",
      "nbconvert_exporter": "python",
      "pygments_lexer": "ipython3",
      "version": "3.11.0"
    },
    "vscode": {
      "interpreter": {
        "hash": "3b7a84cbed68cee8b2d902c7fb67e432dacaa152add68a2527cb1d6154323226"
      }
    }
  },
  "nbformat": 4,
  "nbformat_minor": 0
}